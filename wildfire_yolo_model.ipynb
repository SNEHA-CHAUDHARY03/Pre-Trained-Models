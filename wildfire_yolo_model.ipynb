{
  "nbformat": 4,
  "nbformat_minor": 0,
  "metadata": {
    "colab": {
      "provenance": [],
      "gpuType": "T4"
    },
    "kernelspec": {
      "name": "python3",
      "display_name": "Python 3"
    },
    "language_info": {
      "name": "python"
    },
    "accelerator": "GPU"
  },
  "cells": [
    {
      "cell_type": "code",
      "execution_count": null,
      "metadata": {
        "colab": {
          "base_uri": "https://localhost:8080/"
        },
        "id": "pI4wtnQeGcqv",
        "outputId": "d0a8eae8-af57-46c9-d108-2b0e8d8e3865"
      },
      "outputs": [
        {
          "output_type": "stream",
          "name": "stdout",
          "text": [
            "Collecting roboflow\n",
            "  Downloading roboflow-1.1.62-py3-none-any.whl.metadata (9.7 kB)\n",
            "Requirement already satisfied: certifi in /usr/local/lib/python3.11/dist-packages (from roboflow) (2025.1.31)\n",
            "Collecting idna==3.7 (from roboflow)\n",
            "  Downloading idna-3.7-py3-none-any.whl.metadata (9.9 kB)\n",
            "Requirement already satisfied: cycler in /usr/local/lib/python3.11/dist-packages (from roboflow) (0.12.1)\n",
            "Requirement already satisfied: kiwisolver>=1.3.1 in /usr/local/lib/python3.11/dist-packages (from roboflow) (1.4.8)\n",
            "Requirement already satisfied: matplotlib in /usr/local/lib/python3.11/dist-packages (from roboflow) (3.10.0)\n",
            "Requirement already satisfied: numpy>=1.18.5 in /usr/local/lib/python3.11/dist-packages (from roboflow) (2.0.2)\n",
            "Collecting opencv-python-headless==4.10.0.84 (from roboflow)\n",
            "  Downloading opencv_python_headless-4.10.0.84-cp37-abi3-manylinux_2_17_x86_64.manylinux2014_x86_64.whl.metadata (20 kB)\n",
            "Requirement already satisfied: Pillow>=7.1.2 in /usr/local/lib/python3.11/dist-packages (from roboflow) (11.2.1)\n",
            "Collecting pillow-heif>=0.18.0 (from roboflow)\n",
            "  Downloading pillow_heif-0.22.0-cp311-cp311-manylinux_2_17_x86_64.manylinux2014_x86_64.whl.metadata (9.6 kB)\n",
            "Requirement already satisfied: python-dateutil in /usr/local/lib/python3.11/dist-packages (from roboflow) (2.9.0.post0)\n",
            "Collecting python-dotenv (from roboflow)\n",
            "  Downloading python_dotenv-1.1.0-py3-none-any.whl.metadata (24 kB)\n",
            "Requirement already satisfied: requests in /usr/local/lib/python3.11/dist-packages (from roboflow) (2.32.3)\n",
            "Requirement already satisfied: six in /usr/local/lib/python3.11/dist-packages (from roboflow) (1.17.0)\n",
            "Requirement already satisfied: urllib3>=1.26.6 in /usr/local/lib/python3.11/dist-packages (from roboflow) (2.4.0)\n",
            "Requirement already satisfied: tqdm>=4.41.0 in /usr/local/lib/python3.11/dist-packages (from roboflow) (4.67.1)\n",
            "Requirement already satisfied: PyYAML>=5.3.1 in /usr/local/lib/python3.11/dist-packages (from roboflow) (6.0.2)\n",
            "Requirement already satisfied: requests-toolbelt in /usr/local/lib/python3.11/dist-packages (from roboflow) (1.0.0)\n",
            "Collecting filetype (from roboflow)\n",
            "  Downloading filetype-1.2.0-py2.py3-none-any.whl.metadata (6.5 kB)\n",
            "Requirement already satisfied: contourpy>=1.0.1 in /usr/local/lib/python3.11/dist-packages (from matplotlib->roboflow) (1.3.2)\n",
            "Requirement already satisfied: fonttools>=4.22.0 in /usr/local/lib/python3.11/dist-packages (from matplotlib->roboflow) (4.57.0)\n",
            "Requirement already satisfied: packaging>=20.0 in /usr/local/lib/python3.11/dist-packages (from matplotlib->roboflow) (24.2)\n",
            "Requirement already satisfied: pyparsing>=2.3.1 in /usr/local/lib/python3.11/dist-packages (from matplotlib->roboflow) (3.2.3)\n",
            "Requirement already satisfied: charset-normalizer<4,>=2 in /usr/local/lib/python3.11/dist-packages (from requests->roboflow) (3.4.1)\n",
            "Downloading roboflow-1.1.62-py3-none-any.whl (85 kB)\n",
            "\u001b[2K   \u001b[90m━━━━━━━━━━━━━━━━━━━━━━━━━━━━━━━━━━━━━━━━\u001b[0m \u001b[32m85.3/85.3 kB\u001b[0m \u001b[31m9.1 MB/s\u001b[0m eta \u001b[36m0:00:00\u001b[0m\n",
            "\u001b[?25hDownloading idna-3.7-py3-none-any.whl (66 kB)\n",
            "\u001b[2K   \u001b[90m━━━━━━━━━━━━━━━━━━━━━━━━━━━━━━━━━━━━━━━━\u001b[0m \u001b[32m66.8/66.8 kB\u001b[0m \u001b[31m6.7 MB/s\u001b[0m eta \u001b[36m0:00:00\u001b[0m\n",
            "\u001b[?25hDownloading opencv_python_headless-4.10.0.84-cp37-abi3-manylinux_2_17_x86_64.manylinux2014_x86_64.whl (49.9 MB)\n",
            "\u001b[2K   \u001b[90m━━━━━━━━━━━━━━━━━━━━━━━━━━━━━━━━━━━━━━━━\u001b[0m \u001b[32m49.9/49.9 MB\u001b[0m \u001b[31m16.5 MB/s\u001b[0m eta \u001b[36m0:00:00\u001b[0m\n",
            "\u001b[?25hDownloading pillow_heif-0.22.0-cp311-cp311-manylinux_2_17_x86_64.manylinux2014_x86_64.whl (7.8 MB)\n",
            "\u001b[2K   \u001b[90m━━━━━━━━━━━━━━━━━━━━━━━━━━━━━━━━━━━━━━━━\u001b[0m \u001b[32m7.8/7.8 MB\u001b[0m \u001b[31m127.9 MB/s\u001b[0m eta \u001b[36m0:00:00\u001b[0m\n",
            "\u001b[?25hDownloading filetype-1.2.0-py2.py3-none-any.whl (19 kB)\n",
            "Downloading python_dotenv-1.1.0-py3-none-any.whl (20 kB)\n",
            "Installing collected packages: filetype, python-dotenv, pillow-heif, opencv-python-headless, idna, roboflow\n",
            "  Attempting uninstall: opencv-python-headless\n",
            "    Found existing installation: opencv-python-headless 4.11.0.86\n",
            "    Uninstalling opencv-python-headless-4.11.0.86:\n",
            "      Successfully uninstalled opencv-python-headless-4.11.0.86\n",
            "  Attempting uninstall: idna\n",
            "    Found existing installation: idna 3.10\n",
            "    Uninstalling idna-3.10:\n",
            "      Successfully uninstalled idna-3.10\n",
            "Successfully installed filetype-1.2.0 idna-3.7 opencv-python-headless-4.10.0.84 pillow-heif-0.22.0 python-dotenv-1.1.0 roboflow-1.1.62\n",
            "loading Roboflow workspace...\n",
            "loading Roboflow project...\n"
          ]
        },
        {
          "output_type": "stream",
          "name": "stderr",
          "text": [
            "Downloading Dataset Version Zip in fire-and-smoke-thermal-cam-1 to yolov8-obb:: 100%|██████████| 84889/84889 [00:03<00:00, 26894.30it/s]"
          ]
        },
        {
          "output_type": "stream",
          "name": "stdout",
          "text": [
            "\n"
          ]
        },
        {
          "output_type": "stream",
          "name": "stderr",
          "text": [
            "\n",
            "Extracting Dataset Version Zip to fire-and-smoke-thermal-cam-1 in yolov8-obb:: 100%|██████████| 5032/5032 [00:00<00:00, 5465.44it/s]\n"
          ]
        }
      ],
      "source": [
        "\n",
        "!pip install roboflow\n",
        "\n",
        "from roboflow import Roboflow\n",
        "rf = Roboflow(api_key=\"iX14GwJ3UVKkSCbTtIHN\")\n",
        "project = rf.workspace(\"fire-detection-h94rn\").project(\"fire-and-smoke-thermal-cam\")\n",
        "version = project.version(1)\n",
        "dataset = version.download(\"yolov8-obb\")\n"
      ]
    },
    {
      "cell_type": "code",
      "source": [
        "!ls /content/fire-and-smoke-thermal-cam-1"
      ],
      "metadata": {
        "colab": {
          "base_uri": "https://localhost:8080/"
        },
        "id": "GLAIoph8G7Ze",
        "outputId": "3ffe1b14-3c69-464a-88b8-598e31fe8bfe"
      },
      "execution_count": null,
      "outputs": [
        {
          "output_type": "stream",
          "name": "stdout",
          "text": [
            "data.yaml  README.dataset.txt  README.roboflow.txt  test  train  valid\n"
          ]
        }
      ]
    },
    {
      "cell_type": "code",
      "source": [
        "!pip install ultralytics"
      ],
      "metadata": {
        "colab": {
          "base_uri": "https://localhost:8080/"
        },
        "id": "87i5W8QzIA1-",
        "outputId": "c4d56716-cd8c-4b98-b142-698af2939ba2"
      },
      "execution_count": null,
      "outputs": [
        {
          "output_type": "stream",
          "name": "stdout",
          "text": [
            "Collecting ultralytics\n",
            "  Downloading ultralytics-8.3.119-py3-none-any.whl.metadata (37 kB)\n",
            "Requirement already satisfied: numpy>=1.23.0 in /usr/local/lib/python3.11/dist-packages (from ultralytics) (2.0.2)\n",
            "Requirement already satisfied: matplotlib>=3.3.0 in /usr/local/lib/python3.11/dist-packages (from ultralytics) (3.10.0)\n",
            "Requirement already satisfied: opencv-python>=4.6.0 in /usr/local/lib/python3.11/dist-packages (from ultralytics) (4.11.0.86)\n",
            "Requirement already satisfied: pillow>=7.1.2 in /usr/local/lib/python3.11/dist-packages (from ultralytics) (11.2.1)\n",
            "Requirement already satisfied: pyyaml>=5.3.1 in /usr/local/lib/python3.11/dist-packages (from ultralytics) (6.0.2)\n",
            "Requirement already satisfied: requests>=2.23.0 in /usr/local/lib/python3.11/dist-packages (from ultralytics) (2.32.3)\n",
            "Requirement already satisfied: scipy>=1.4.1 in /usr/local/lib/python3.11/dist-packages (from ultralytics) (1.15.2)\n",
            "Requirement already satisfied: torch>=1.8.0 in /usr/local/lib/python3.11/dist-packages (from ultralytics) (2.6.0+cu124)\n",
            "Requirement already satisfied: torchvision>=0.9.0 in /usr/local/lib/python3.11/dist-packages (from ultralytics) (0.21.0+cu124)\n",
            "Requirement already satisfied: tqdm>=4.64.0 in /usr/local/lib/python3.11/dist-packages (from ultralytics) (4.67.1)\n",
            "Requirement already satisfied: psutil in /usr/local/lib/python3.11/dist-packages (from ultralytics) (5.9.5)\n",
            "Requirement already satisfied: py-cpuinfo in /usr/local/lib/python3.11/dist-packages (from ultralytics) (9.0.0)\n",
            "Requirement already satisfied: pandas>=1.1.4 in /usr/local/lib/python3.11/dist-packages (from ultralytics) (2.2.2)\n",
            "Requirement already satisfied: seaborn>=0.11.0 in /usr/local/lib/python3.11/dist-packages (from ultralytics) (0.13.2)\n",
            "Collecting ultralytics-thop>=2.0.0 (from ultralytics)\n",
            "  Downloading ultralytics_thop-2.0.14-py3-none-any.whl.metadata (9.4 kB)\n",
            "Requirement already satisfied: contourpy>=1.0.1 in /usr/local/lib/python3.11/dist-packages (from matplotlib>=3.3.0->ultralytics) (1.3.2)\n",
            "Requirement already satisfied: cycler>=0.10 in /usr/local/lib/python3.11/dist-packages (from matplotlib>=3.3.0->ultralytics) (0.12.1)\n",
            "Requirement already satisfied: fonttools>=4.22.0 in /usr/local/lib/python3.11/dist-packages (from matplotlib>=3.3.0->ultralytics) (4.57.0)\n",
            "Requirement already satisfied: kiwisolver>=1.3.1 in /usr/local/lib/python3.11/dist-packages (from matplotlib>=3.3.0->ultralytics) (1.4.8)\n",
            "Requirement already satisfied: packaging>=20.0 in /usr/local/lib/python3.11/dist-packages (from matplotlib>=3.3.0->ultralytics) (24.2)\n",
            "Requirement already satisfied: pyparsing>=2.3.1 in /usr/local/lib/python3.11/dist-packages (from matplotlib>=3.3.0->ultralytics) (3.2.3)\n",
            "Requirement already satisfied: python-dateutil>=2.7 in /usr/local/lib/python3.11/dist-packages (from matplotlib>=3.3.0->ultralytics) (2.9.0.post0)\n",
            "Requirement already satisfied: pytz>=2020.1 in /usr/local/lib/python3.11/dist-packages (from pandas>=1.1.4->ultralytics) (2025.2)\n",
            "Requirement already satisfied: tzdata>=2022.7 in /usr/local/lib/python3.11/dist-packages (from pandas>=1.1.4->ultralytics) (2025.2)\n",
            "Requirement already satisfied: charset-normalizer<4,>=2 in /usr/local/lib/python3.11/dist-packages (from requests>=2.23.0->ultralytics) (3.4.1)\n",
            "Requirement already satisfied: idna<4,>=2.5 in /usr/local/lib/python3.11/dist-packages (from requests>=2.23.0->ultralytics) (3.7)\n",
            "Requirement already satisfied: urllib3<3,>=1.21.1 in /usr/local/lib/python3.11/dist-packages (from requests>=2.23.0->ultralytics) (2.4.0)\n",
            "Requirement already satisfied: certifi>=2017.4.17 in /usr/local/lib/python3.11/dist-packages (from requests>=2.23.0->ultralytics) (2025.1.31)\n",
            "Requirement already satisfied: filelock in /usr/local/lib/python3.11/dist-packages (from torch>=1.8.0->ultralytics) (3.18.0)\n",
            "Requirement already satisfied: typing-extensions>=4.10.0 in /usr/local/lib/python3.11/dist-packages (from torch>=1.8.0->ultralytics) (4.13.2)\n",
            "Requirement already satisfied: networkx in /usr/local/lib/python3.11/dist-packages (from torch>=1.8.0->ultralytics) (3.4.2)\n",
            "Requirement already satisfied: jinja2 in /usr/local/lib/python3.11/dist-packages (from torch>=1.8.0->ultralytics) (3.1.6)\n",
            "Requirement already satisfied: fsspec in /usr/local/lib/python3.11/dist-packages (from torch>=1.8.0->ultralytics) (2025.3.2)\n",
            "Collecting nvidia-cuda-nvrtc-cu12==12.4.127 (from torch>=1.8.0->ultralytics)\n",
            "  Downloading nvidia_cuda_nvrtc_cu12-12.4.127-py3-none-manylinux2014_x86_64.whl.metadata (1.5 kB)\n",
            "Collecting nvidia-cuda-runtime-cu12==12.4.127 (from torch>=1.8.0->ultralytics)\n",
            "  Downloading nvidia_cuda_runtime_cu12-12.4.127-py3-none-manylinux2014_x86_64.whl.metadata (1.5 kB)\n",
            "Collecting nvidia-cuda-cupti-cu12==12.4.127 (from torch>=1.8.0->ultralytics)\n",
            "  Downloading nvidia_cuda_cupti_cu12-12.4.127-py3-none-manylinux2014_x86_64.whl.metadata (1.6 kB)\n",
            "Collecting nvidia-cudnn-cu12==9.1.0.70 (from torch>=1.8.0->ultralytics)\n",
            "  Downloading nvidia_cudnn_cu12-9.1.0.70-py3-none-manylinux2014_x86_64.whl.metadata (1.6 kB)\n",
            "Collecting nvidia-cublas-cu12==12.4.5.8 (from torch>=1.8.0->ultralytics)\n",
            "  Downloading nvidia_cublas_cu12-12.4.5.8-py3-none-manylinux2014_x86_64.whl.metadata (1.5 kB)\n",
            "Collecting nvidia-cufft-cu12==11.2.1.3 (from torch>=1.8.0->ultralytics)\n",
            "  Downloading nvidia_cufft_cu12-11.2.1.3-py3-none-manylinux2014_x86_64.whl.metadata (1.5 kB)\n",
            "Collecting nvidia-curand-cu12==10.3.5.147 (from torch>=1.8.0->ultralytics)\n",
            "  Downloading nvidia_curand_cu12-10.3.5.147-py3-none-manylinux2014_x86_64.whl.metadata (1.5 kB)\n",
            "Collecting nvidia-cusolver-cu12==11.6.1.9 (from torch>=1.8.0->ultralytics)\n",
            "  Downloading nvidia_cusolver_cu12-11.6.1.9-py3-none-manylinux2014_x86_64.whl.metadata (1.6 kB)\n",
            "Collecting nvidia-cusparse-cu12==12.3.1.170 (from torch>=1.8.0->ultralytics)\n",
            "  Downloading nvidia_cusparse_cu12-12.3.1.170-py3-none-manylinux2014_x86_64.whl.metadata (1.6 kB)\n",
            "Requirement already satisfied: nvidia-cusparselt-cu12==0.6.2 in /usr/local/lib/python3.11/dist-packages (from torch>=1.8.0->ultralytics) (0.6.2)\n",
            "Requirement already satisfied: nvidia-nccl-cu12==2.21.5 in /usr/local/lib/python3.11/dist-packages (from torch>=1.8.0->ultralytics) (2.21.5)\n",
            "Requirement already satisfied: nvidia-nvtx-cu12==12.4.127 in /usr/local/lib/python3.11/dist-packages (from torch>=1.8.0->ultralytics) (12.4.127)\n",
            "Collecting nvidia-nvjitlink-cu12==12.4.127 (from torch>=1.8.0->ultralytics)\n",
            "  Downloading nvidia_nvjitlink_cu12-12.4.127-py3-none-manylinux2014_x86_64.whl.metadata (1.5 kB)\n",
            "Requirement already satisfied: triton==3.2.0 in /usr/local/lib/python3.11/dist-packages (from torch>=1.8.0->ultralytics) (3.2.0)\n",
            "Requirement already satisfied: sympy==1.13.1 in /usr/local/lib/python3.11/dist-packages (from torch>=1.8.0->ultralytics) (1.13.1)\n",
            "Requirement already satisfied: mpmath<1.4,>=1.1.0 in /usr/local/lib/python3.11/dist-packages (from sympy==1.13.1->torch>=1.8.0->ultralytics) (1.3.0)\n",
            "Requirement already satisfied: six>=1.5 in /usr/local/lib/python3.11/dist-packages (from python-dateutil>=2.7->matplotlib>=3.3.0->ultralytics) (1.17.0)\n",
            "Requirement already satisfied: MarkupSafe>=2.0 in /usr/local/lib/python3.11/dist-packages (from jinja2->torch>=1.8.0->ultralytics) (3.0.2)\n",
            "Downloading ultralytics-8.3.119-py3-none-any.whl (1.0 MB)\n",
            "\u001b[2K   \u001b[90m━━━━━━━━━━━━━━━━━━━━━━━━━━━━━━━━━━━━━━━━\u001b[0m \u001b[32m1.0/1.0 MB\u001b[0m \u001b[31m41.4 MB/s\u001b[0m eta \u001b[36m0:00:00\u001b[0m\n",
            "\u001b[?25hDownloading nvidia_cublas_cu12-12.4.5.8-py3-none-manylinux2014_x86_64.whl (363.4 MB)\n",
            "\u001b[2K   \u001b[90m━━━━━━━━━━━━━━━━━━━━━━━━━━━━━━━━━━━━━━━━\u001b[0m \u001b[32m363.4/363.4 MB\u001b[0m \u001b[31m3.9 MB/s\u001b[0m eta \u001b[36m0:00:00\u001b[0m\n",
            "\u001b[?25hDownloading nvidia_cuda_cupti_cu12-12.4.127-py3-none-manylinux2014_x86_64.whl (13.8 MB)\n",
            "\u001b[2K   \u001b[90m━━━━━━━━━━━━━━━━━━━━━━━━━━━━━━━━━━━━━━━━\u001b[0m \u001b[32m13.8/13.8 MB\u001b[0m \u001b[31m121.4 MB/s\u001b[0m eta \u001b[36m0:00:00\u001b[0m\n",
            "\u001b[?25hDownloading nvidia_cuda_nvrtc_cu12-12.4.127-py3-none-manylinux2014_x86_64.whl (24.6 MB)\n",
            "\u001b[2K   \u001b[90m━━━━━━━━━━━━━━━━━━━━━━━━━━━━━━━━━━━━━━━━\u001b[0m \u001b[32m24.6/24.6 MB\u001b[0m \u001b[31m62.3 MB/s\u001b[0m eta \u001b[36m0:00:00\u001b[0m\n",
            "\u001b[?25hDownloading nvidia_cuda_runtime_cu12-12.4.127-py3-none-manylinux2014_x86_64.whl (883 kB)\n",
            "\u001b[2K   \u001b[90m━━━━━━━━━━━━━━━━━━━━━━━━━━━━━━━━━━━━━━━━\u001b[0m \u001b[32m883.7/883.7 kB\u001b[0m \u001b[31m59.7 MB/s\u001b[0m eta \u001b[36m0:00:00\u001b[0m\n",
            "\u001b[?25hDownloading nvidia_cudnn_cu12-9.1.0.70-py3-none-manylinux2014_x86_64.whl (664.8 MB)\n",
            "\u001b[2K   \u001b[90m━━━━━━━━━━━━━━━━━━━━━━━━━━━━━━━━━━━━━━━━\u001b[0m \u001b[32m664.8/664.8 MB\u001b[0m \u001b[31m2.9 MB/s\u001b[0m eta \u001b[36m0:00:00\u001b[0m\n",
            "\u001b[?25hDownloading nvidia_cufft_cu12-11.2.1.3-py3-none-manylinux2014_x86_64.whl (211.5 MB)\n",
            "\u001b[2K   \u001b[90m━━━━━━━━━━━━━━━━━━━━━━━━━━━━━━━━━━━━━━━━\u001b[0m \u001b[32m211.5/211.5 MB\u001b[0m \u001b[31m5.3 MB/s\u001b[0m eta \u001b[36m0:00:00\u001b[0m\n",
            "\u001b[?25hDownloading nvidia_curand_cu12-10.3.5.147-py3-none-manylinux2014_x86_64.whl (56.3 MB)\n",
            "\u001b[2K   \u001b[90m━━━━━━━━━━━━━━━━━━━━━━━━━━━━━━━━━━━━━━━━\u001b[0m \u001b[32m56.3/56.3 MB\u001b[0m \u001b[31m15.8 MB/s\u001b[0m eta \u001b[36m0:00:00\u001b[0m\n",
            "\u001b[?25hDownloading nvidia_cusolver_cu12-11.6.1.9-py3-none-manylinux2014_x86_64.whl (127.9 MB)\n",
            "\u001b[2K   \u001b[90m━━━━━━━━━━━━━━━━━━━━━━━━━━━━━━━━━━━━━━━━\u001b[0m \u001b[32m127.9/127.9 MB\u001b[0m \u001b[31m7.5 MB/s\u001b[0m eta \u001b[36m0:00:00\u001b[0m\n",
            "\u001b[?25hDownloading nvidia_cusparse_cu12-12.3.1.170-py3-none-manylinux2014_x86_64.whl (207.5 MB)\n",
            "\u001b[2K   \u001b[90m━━━━━━━━━━━━━━━━━━━━━━━━━━━━━━━━━━━━━━━━\u001b[0m \u001b[32m207.5/207.5 MB\u001b[0m \u001b[31m6.9 MB/s\u001b[0m eta \u001b[36m0:00:00\u001b[0m\n",
            "\u001b[?25hDownloading nvidia_nvjitlink_cu12-12.4.127-py3-none-manylinux2014_x86_64.whl (21.1 MB)\n",
            "\u001b[2K   \u001b[90m━━━━━━━━━━━━━━━━━━━━━━━━━━━━━━━━━━━━━━━━\u001b[0m \u001b[32m21.1/21.1 MB\u001b[0m \u001b[31m104.5 MB/s\u001b[0m eta \u001b[36m0:00:00\u001b[0m\n",
            "\u001b[?25hDownloading ultralytics_thop-2.0.14-py3-none-any.whl (26 kB)\n",
            "Installing collected packages: nvidia-nvjitlink-cu12, nvidia-curand-cu12, nvidia-cufft-cu12, nvidia-cuda-runtime-cu12, nvidia-cuda-nvrtc-cu12, nvidia-cuda-cupti-cu12, nvidia-cublas-cu12, nvidia-cusparse-cu12, nvidia-cudnn-cu12, nvidia-cusolver-cu12, ultralytics-thop, ultralytics\n",
            "  Attempting uninstall: nvidia-nvjitlink-cu12\n",
            "    Found existing installation: nvidia-nvjitlink-cu12 12.5.82\n",
            "    Uninstalling nvidia-nvjitlink-cu12-12.5.82:\n",
            "      Successfully uninstalled nvidia-nvjitlink-cu12-12.5.82\n",
            "  Attempting uninstall: nvidia-curand-cu12\n",
            "    Found existing installation: nvidia-curand-cu12 10.3.6.82\n",
            "    Uninstalling nvidia-curand-cu12-10.3.6.82:\n",
            "      Successfully uninstalled nvidia-curand-cu12-10.3.6.82\n",
            "  Attempting uninstall: nvidia-cufft-cu12\n",
            "    Found existing installation: nvidia-cufft-cu12 11.2.3.61\n",
            "    Uninstalling nvidia-cufft-cu12-11.2.3.61:\n",
            "      Successfully uninstalled nvidia-cufft-cu12-11.2.3.61\n",
            "  Attempting uninstall: nvidia-cuda-runtime-cu12\n",
            "    Found existing installation: nvidia-cuda-runtime-cu12 12.5.82\n",
            "    Uninstalling nvidia-cuda-runtime-cu12-12.5.82:\n",
            "      Successfully uninstalled nvidia-cuda-runtime-cu12-12.5.82\n",
            "  Attempting uninstall: nvidia-cuda-nvrtc-cu12\n",
            "    Found existing installation: nvidia-cuda-nvrtc-cu12 12.5.82\n",
            "    Uninstalling nvidia-cuda-nvrtc-cu12-12.5.82:\n",
            "      Successfully uninstalled nvidia-cuda-nvrtc-cu12-12.5.82\n",
            "  Attempting uninstall: nvidia-cuda-cupti-cu12\n",
            "    Found existing installation: nvidia-cuda-cupti-cu12 12.5.82\n",
            "    Uninstalling nvidia-cuda-cupti-cu12-12.5.82:\n",
            "      Successfully uninstalled nvidia-cuda-cupti-cu12-12.5.82\n",
            "  Attempting uninstall: nvidia-cublas-cu12\n",
            "    Found existing installation: nvidia-cublas-cu12 12.5.3.2\n",
            "    Uninstalling nvidia-cublas-cu12-12.5.3.2:\n",
            "      Successfully uninstalled nvidia-cublas-cu12-12.5.3.2\n",
            "  Attempting uninstall: nvidia-cusparse-cu12\n",
            "    Found existing installation: nvidia-cusparse-cu12 12.5.1.3\n",
            "    Uninstalling nvidia-cusparse-cu12-12.5.1.3:\n",
            "      Successfully uninstalled nvidia-cusparse-cu12-12.5.1.3\n",
            "  Attempting uninstall: nvidia-cudnn-cu12\n",
            "    Found existing installation: nvidia-cudnn-cu12 9.3.0.75\n",
            "    Uninstalling nvidia-cudnn-cu12-9.3.0.75:\n",
            "      Successfully uninstalled nvidia-cudnn-cu12-9.3.0.75\n",
            "  Attempting uninstall: nvidia-cusolver-cu12\n",
            "    Found existing installation: nvidia-cusolver-cu12 11.6.3.83\n",
            "    Uninstalling nvidia-cusolver-cu12-11.6.3.83:\n",
            "      Successfully uninstalled nvidia-cusolver-cu12-11.6.3.83\n",
            "Successfully installed nvidia-cublas-cu12-12.4.5.8 nvidia-cuda-cupti-cu12-12.4.127 nvidia-cuda-nvrtc-cu12-12.4.127 nvidia-cuda-runtime-cu12-12.4.127 nvidia-cudnn-cu12-9.1.0.70 nvidia-cufft-cu12-11.2.1.3 nvidia-curand-cu12-10.3.5.147 nvidia-cusolver-cu12-11.6.1.9 nvidia-cusparse-cu12-12.3.1.170 nvidia-nvjitlink-cu12-12.4.127 ultralytics-8.3.119 ultralytics-thop-2.0.14\n"
          ]
        }
      ]
    },
    {
      "cell_type": "code",
      "source": [
        "from ultralytics import YOLO\n",
        "\n",
        "\n",
        "model = YOLO(\"yolov8n.pt\")\n",
        "\n",
        "model.train(\n",
        "    data=\"/content/fire-and-smoke-thermal-cam-1/data.yaml\",\n",
        "    epochs=20,\n",
        "    imgsz=640,\n",
        ")\n"
      ],
      "metadata": {
        "colab": {
          "base_uri": "https://localhost:8080/"
        },
        "id": "-ut3nAQPH70G",
        "outputId": "18b49b64-1087-4de9-89d5-c7ce7cfa0b47"
      },
      "execution_count": null,
      "outputs": [
        {
          "output_type": "stream",
          "name": "stdout",
          "text": [
            "Creating new Ultralytics Settings v0.0.6 file ✅ \n",
            "View Ultralytics Settings with 'yolo settings' or at '/root/.config/Ultralytics/settings.json'\n",
            "Update Settings with 'yolo settings key=value', i.e. 'yolo settings runs_dir=path/to/dir'. For help see https://docs.ultralytics.com/quickstart/#ultralytics-settings.\n",
            "Downloading https://github.com/ultralytics/assets/releases/download/v8.3.0/yolov8n.pt to 'yolov8n.pt'...\n"
          ]
        },
        {
          "output_type": "stream",
          "name": "stderr",
          "text": [
            "100%|██████████| 6.25M/6.25M [00:00<00:00, 142MB/s]\n"
          ]
        },
        {
          "output_type": "stream",
          "name": "stdout",
          "text": [
            "Ultralytics 8.3.119 🚀 Python-3.11.12 torch-2.6.0+cu124 CUDA:0 (Tesla T4, 15095MiB)\n",
            "\u001b[34m\u001b[1mengine/trainer: \u001b[0mtask=detect, mode=train, model=yolov8n.pt, data=/content/fire-and-smoke-thermal-cam-1/data.yaml, epochs=20, time=None, patience=100, batch=16, imgsz=640, save=True, save_period=-1, cache=False, device=None, workers=8, project=None, name=train, exist_ok=False, pretrained=True, optimizer=auto, verbose=True, seed=0, deterministic=True, single_cls=False, rect=False, cos_lr=False, close_mosaic=10, resume=False, amp=True, fraction=1.0, profile=False, freeze=None, multi_scale=False, overlap_mask=True, mask_ratio=4, dropout=0.0, val=True, split=val, save_json=False, conf=None, iou=0.7, max_det=300, half=False, dnn=False, plots=True, source=None, vid_stride=1, stream_buffer=False, visualize=False, augment=False, agnostic_nms=False, classes=None, retina_masks=False, embed=None, show=False, save_frames=False, save_txt=False, save_conf=False, save_crop=False, show_labels=True, show_conf=True, show_boxes=True, line_width=None, format=torchscript, keras=False, optimize=False, int8=False, dynamic=False, simplify=True, opset=None, workspace=None, nms=False, lr0=0.01, lrf=0.01, momentum=0.937, weight_decay=0.0005, warmup_epochs=3.0, warmup_momentum=0.8, warmup_bias_lr=0.1, box=7.5, cls=0.5, dfl=1.5, pose=12.0, kobj=1.0, nbs=64, hsv_h=0.015, hsv_s=0.7, hsv_v=0.4, degrees=0.0, translate=0.1, scale=0.5, shear=0.0, perspective=0.0, flipud=0.0, fliplr=0.5, bgr=0.0, mosaic=1.0, mixup=0.0, cutmix=0.0, copy_paste=0.0, copy_paste_mode=flip, auto_augment=randaugment, erasing=0.4, cfg=None, tracker=botsort.yaml, save_dir=runs/detect/train\n",
            "Downloading https://ultralytics.com/assets/Arial.ttf to '/root/.config/Ultralytics/Arial.ttf'...\n"
          ]
        },
        {
          "output_type": "stream",
          "name": "stderr",
          "text": [
            "100%|██████████| 755k/755k [00:00<00:00, 41.9MB/s]"
          ]
        },
        {
          "output_type": "stream",
          "name": "stdout",
          "text": [
            "Overriding model.yaml nc=80 with nc=1\n",
            "\n",
            "                   from  n    params  module                                       arguments                     \n",
            "  0                  -1  1       464  ultralytics.nn.modules.conv.Conv             [3, 16, 3, 2]                 \n",
            "  1                  -1  1      4672  ultralytics.nn.modules.conv.Conv             [16, 32, 3, 2]                \n",
            "  2                  -1  1      7360  ultralytics.nn.modules.block.C2f             [32, 32, 1, True]             \n",
            "  3                  -1  1     18560  ultralytics.nn.modules.conv.Conv             [32, 64, 3, 2]                \n",
            "  4                  -1  2     49664  ultralytics.nn.modules.block.C2f             [64, 64, 2, True]             \n",
            "  5                  -1  1     73984  ultralytics.nn.modules.conv.Conv             [64, 128, 3, 2]               \n",
            "  6                  -1  2    197632  ultralytics.nn.modules.block.C2f             [128, 128, 2, True]           \n",
            "  7                  -1  1    295424  ultralytics.nn.modules.conv.Conv             [128, 256, 3, 2]              \n",
            "  8                  -1  1    460288  ultralytics.nn.modules.block.C2f             [256, 256, 1, True]           \n",
            "  9                  -1  1    164608  ultralytics.nn.modules.block.SPPF            [256, 256, 5]                 \n",
            " 10                  -1  1         0  torch.nn.modules.upsampling.Upsample         [None, 2, 'nearest']          \n",
            " 11             [-1, 6]  1         0  ultralytics.nn.modules.conv.Concat           [1]                           \n",
            " 12                  -1  1    148224  ultralytics.nn.modules.block.C2f             [384, 128, 1]                 \n",
            " 13                  -1  1         0  torch.nn.modules.upsampling.Upsample         [None, 2, 'nearest']          \n",
            " 14             [-1, 4]  1         0  ultralytics.nn.modules.conv.Concat           [1]                           \n",
            " 15                  -1  1     37248  ultralytics.nn.modules.block.C2f             [192, 64, 1]                  \n",
            " 16                  -1  1     36992  ultralytics.nn.modules.conv.Conv             [64, 64, 3, 2]                \n",
            " 17            [-1, 12]  1         0  ultralytics.nn.modules.conv.Concat           [1]                           \n",
            " 18                  -1  1    123648  ultralytics.nn.modules.block.C2f             [192, 128, 1]                 \n",
            " 19                  -1  1    147712  ultralytics.nn.modules.conv.Conv             [128, 128, 3, 2]              \n",
            " 20             [-1, 9]  1         0  ultralytics.nn.modules.conv.Concat           [1]                           \n",
            " 21                  -1  1    493056  ultralytics.nn.modules.block.C2f             [384, 256, 1]                 \n",
            " 22        [15, 18, 21]  1    751507  ultralytics.nn.modules.head.Detect           [1, [64, 128, 256]]           \n"
          ]
        },
        {
          "output_type": "stream",
          "name": "stderr",
          "text": [
            "\n"
          ]
        },
        {
          "output_type": "stream",
          "name": "stdout",
          "text": [
            "Model summary: 129 layers, 3,011,043 parameters, 3,011,027 gradients, 8.2 GFLOPs\n",
            "\n",
            "Transferred 319/355 items from pretrained weights\n",
            "Freezing layer 'model.22.dfl.conv.weight'\n",
            "\u001b[34m\u001b[1mAMP: \u001b[0mrunning Automatic Mixed Precision (AMP) checks...\n",
            "Downloading https://github.com/ultralytics/assets/releases/download/v8.3.0/yolo11n.pt to 'yolo11n.pt'...\n"
          ]
        },
        {
          "output_type": "stream",
          "name": "stderr",
          "text": [
            "100%|██████████| 5.35M/5.35M [00:00<00:00, 129MB/s]\n"
          ]
        },
        {
          "output_type": "stream",
          "name": "stdout",
          "text": [
            "\u001b[34m\u001b[1mAMP: \u001b[0mchecks passed ✅\n",
            "\u001b[34m\u001b[1mtrain: \u001b[0mFast image access ✅ (ping: 0.0±0.0 ms, read: 13.6±3.0 MB/s, size: 24.7 KB)\n"
          ]
        },
        {
          "output_type": "stream",
          "name": "stderr",
          "text": [
            "\u001b[34m\u001b[1mtrain: \u001b[0mScanning /content/fire-and-smoke-thermal-cam-1/train/labels... 1757 images, 0 backgrounds, 0 corrupt: 100%|██████████| 1757/1757 [00:01<00:00, 1036.33it/s]\n"
          ]
        },
        {
          "output_type": "stream",
          "name": "stdout",
          "text": [
            "\u001b[34m\u001b[1mtrain: \u001b[0mNew cache created: /content/fire-and-smoke-thermal-cam-1/train/labels.cache\n",
            "\u001b[34m\u001b[1malbumentations: \u001b[0mBlur(p=0.01, blur_limit=(3, 7)), MedianBlur(p=0.01, blur_limit=(3, 7)), ToGray(p=0.01, num_output_channels=3, method='weighted_average'), CLAHE(p=0.01, clip_limit=(1.0, 4.0), tile_grid_size=(8, 8))\n",
            "\u001b[34m\u001b[1mval: \u001b[0mFast image access ✅ (ping: 0.0±0.0 ms, read: 8.0±3.2 MB/s, size: 31.8 KB)\n"
          ]
        },
        {
          "output_type": "stream",
          "name": "stderr",
          "text": [
            "\u001b[34m\u001b[1mval: \u001b[0mScanning /content/fire-and-smoke-thermal-cam-1/valid/labels... 502 images, 0 backgrounds, 0 corrupt: 100%|██████████| 502/502 [00:00<00:00, 541.26it/s]\n"
          ]
        },
        {
          "output_type": "stream",
          "name": "stdout",
          "text": [
            "\u001b[34m\u001b[1mval: \u001b[0mNew cache created: /content/fire-and-smoke-thermal-cam-1/valid/labels.cache\n",
            "Plotting labels to runs/detect/train/labels.jpg... \n",
            "\u001b[34m\u001b[1moptimizer:\u001b[0m 'optimizer=auto' found, ignoring 'lr0=0.01' and 'momentum=0.937' and determining best 'optimizer', 'lr0' and 'momentum' automatically... \n",
            "\u001b[34m\u001b[1moptimizer:\u001b[0m AdamW(lr=0.002, momentum=0.9) with parameter groups 57 weight(decay=0.0), 64 weight(decay=0.0005), 63 bias(decay=0.0)\n",
            "Image sizes 640 train, 640 val\n",
            "Using 2 dataloader workers\n",
            "Logging results to \u001b[1mruns/detect/train\u001b[0m\n",
            "Starting training for 20 epochs...\n",
            "\n",
            "      Epoch    GPU_mem   box_loss   cls_loss   dfl_loss  Instances       Size\n"
          ]
        },
        {
          "output_type": "stream",
          "name": "stderr",
          "text": [
            "       1/20      2.06G      1.313      1.909      1.332         50        640: 100%|██████████| 110/110 [00:38<00:00,  2.85it/s]\n",
            "                 Class     Images  Instances      Box(P          R      mAP50  mAP50-95): 100%|██████████| 16/16 [00:05<00:00,  2.92it/s]"
          ]
        },
        {
          "output_type": "stream",
          "name": "stdout",
          "text": [
            "                   all        502       1567      0.599      0.617      0.629      0.377\n"
          ]
        },
        {
          "output_type": "stream",
          "name": "stderr",
          "text": [
            "\n"
          ]
        },
        {
          "output_type": "stream",
          "name": "stdout",
          "text": [
            "\n",
            "      Epoch    GPU_mem   box_loss   cls_loss   dfl_loss  Instances       Size\n"
          ]
        },
        {
          "output_type": "stream",
          "name": "stderr",
          "text": [
            "       2/20      2.54G      1.294      1.461      1.328         73        640: 100%|██████████| 110/110 [00:34<00:00,  3.23it/s]\n",
            "                 Class     Images  Instances      Box(P          R      mAP50  mAP50-95): 100%|██████████| 16/16 [00:04<00:00,  3.50it/s]\n"
          ]
        },
        {
          "output_type": "stream",
          "name": "stdout",
          "text": [
            "                   all        502       1567      0.732      0.609      0.695      0.396\n",
            "\n",
            "      Epoch    GPU_mem   box_loss   cls_loss   dfl_loss  Instances       Size\n"
          ]
        },
        {
          "output_type": "stream",
          "name": "stderr",
          "text": [
            "       3/20      2.56G      1.294      1.363      1.335         58        640: 100%|██████████| 110/110 [00:34<00:00,  3.19it/s]\n",
            "                 Class     Images  Instances      Box(P          R      mAP50  mAP50-95): 100%|██████████| 16/16 [00:04<00:00,  3.58it/s]"
          ]
        },
        {
          "output_type": "stream",
          "name": "stdout",
          "text": [
            "                   all        502       1567      0.626      0.583      0.594      0.322\n"
          ]
        },
        {
          "output_type": "stream",
          "name": "stderr",
          "text": [
            "\n"
          ]
        },
        {
          "output_type": "stream",
          "name": "stdout",
          "text": [
            "\n",
            "      Epoch    GPU_mem   box_loss   cls_loss   dfl_loss  Instances       Size\n"
          ]
        },
        {
          "output_type": "stream",
          "name": "stderr",
          "text": [
            "       4/20      2.58G       1.28      1.263      1.336         57        640: 100%|██████████| 110/110 [00:34<00:00,  3.20it/s]\n",
            "                 Class     Images  Instances      Box(P          R      mAP50  mAP50-95): 100%|██████████| 16/16 [00:04<00:00,  3.62it/s]\n"
          ]
        },
        {
          "output_type": "stream",
          "name": "stdout",
          "text": [
            "                   all        502       1567      0.778      0.741      0.797      0.516\n",
            "\n",
            "      Epoch    GPU_mem   box_loss   cls_loss   dfl_loss  Instances       Size\n"
          ]
        },
        {
          "output_type": "stream",
          "name": "stderr",
          "text": [
            "       5/20      2.59G      1.206      1.158      1.293         70        640: 100%|██████████| 110/110 [00:33<00:00,  3.26it/s]\n",
            "                 Class     Images  Instances      Box(P          R      mAP50  mAP50-95): 100%|██████████| 16/16 [00:04<00:00,  3.62it/s]\n"
          ]
        },
        {
          "output_type": "stream",
          "name": "stdout",
          "text": [
            "                   all        502       1567      0.792      0.718      0.799      0.516\n",
            "\n",
            "      Epoch    GPU_mem   box_loss   cls_loss   dfl_loss  Instances       Size\n"
          ]
        },
        {
          "output_type": "stream",
          "name": "stderr",
          "text": [
            "       6/20      2.61G      1.173      1.115      1.283         60        640: 100%|██████████| 110/110 [00:33<00:00,  3.27it/s]\n",
            "                 Class     Images  Instances      Box(P          R      mAP50  mAP50-95): 100%|██████████| 16/16 [00:04<00:00,  3.66it/s]\n"
          ]
        },
        {
          "output_type": "stream",
          "name": "stdout",
          "text": [
            "                   all        502       1567      0.845      0.773      0.851       0.59\n",
            "\n",
            "      Epoch    GPU_mem   box_loss   cls_loss   dfl_loss  Instances       Size\n"
          ]
        },
        {
          "output_type": "stream",
          "name": "stderr",
          "text": [
            "       7/20      2.62G      1.149      1.049      1.248         84        640: 100%|██████████| 110/110 [00:33<00:00,  3.24it/s]\n",
            "                 Class     Images  Instances      Box(P          R      mAP50  mAP50-95): 100%|██████████| 16/16 [00:04<00:00,  3.80it/s]\n"
          ]
        },
        {
          "output_type": "stream",
          "name": "stdout",
          "text": [
            "                   all        502       1567      0.862      0.784      0.868      0.603\n",
            "\n",
            "      Epoch    GPU_mem   box_loss   cls_loss   dfl_loss  Instances       Size\n"
          ]
        },
        {
          "output_type": "stream",
          "name": "stderr",
          "text": [
            "       8/20      2.64G      1.124      1.024      1.248         70        640: 100%|██████████| 110/110 [00:33<00:00,  3.28it/s]\n",
            "                 Class     Images  Instances      Box(P          R      mAP50  mAP50-95): 100%|██████████| 16/16 [00:04<00:00,  3.59it/s]\n"
          ]
        },
        {
          "output_type": "stream",
          "name": "stdout",
          "text": [
            "                   all        502       1567      0.819      0.786      0.859       0.59\n",
            "\n",
            "      Epoch    GPU_mem   box_loss   cls_loss   dfl_loss  Instances       Size\n"
          ]
        },
        {
          "output_type": "stream",
          "name": "stderr",
          "text": [
            "       9/20      2.66G      1.099      0.987      1.228         70        640: 100%|██████████| 110/110 [00:33<00:00,  3.31it/s]\n",
            "                 Class     Images  Instances      Box(P          R      mAP50  mAP50-95): 100%|██████████| 16/16 [00:04<00:00,  3.75it/s]\n"
          ]
        },
        {
          "output_type": "stream",
          "name": "stdout",
          "text": [
            "                   all        502       1567       0.87        0.8      0.876      0.625\n",
            "\n",
            "      Epoch    GPU_mem   box_loss   cls_loss   dfl_loss  Instances       Size\n"
          ]
        },
        {
          "output_type": "stream",
          "name": "stderr",
          "text": [
            "      10/20      2.68G       1.07     0.9245      1.201         48        640: 100%|██████████| 110/110 [00:32<00:00,  3.39it/s]\n",
            "                 Class     Images  Instances      Box(P          R      mAP50  mAP50-95): 100%|██████████| 16/16 [00:05<00:00,  3.17it/s]\n"
          ]
        },
        {
          "output_type": "stream",
          "name": "stdout",
          "text": [
            "                   all        502       1567      0.848      0.829      0.883       0.65\n",
            "Closing dataloader mosaic\n",
            "\u001b[34m\u001b[1malbumentations: \u001b[0mBlur(p=0.01, blur_limit=(3, 7)), MedianBlur(p=0.01, blur_limit=(3, 7)), ToGray(p=0.01, num_output_channels=3, method='weighted_average'), CLAHE(p=0.01, clip_limit=(1.0, 4.0), tile_grid_size=(8, 8))\n",
            "\n",
            "      Epoch    GPU_mem   box_loss   cls_loss   dfl_loss  Instances       Size\n"
          ]
        },
        {
          "output_type": "stream",
          "name": "stderr",
          "text": [
            "      11/20      2.69G      1.026     0.8467      1.191         44        640: 100%|██████████| 110/110 [00:30<00:00,  3.63it/s]\n",
            "                 Class     Images  Instances      Box(P          R      mAP50  mAP50-95): 100%|██████████| 16/16 [00:05<00:00,  3.11it/s]"
          ]
        },
        {
          "output_type": "stream",
          "name": "stdout",
          "text": [
            "                   all        502       1567      0.863      0.797       0.87      0.624\n"
          ]
        },
        {
          "output_type": "stream",
          "name": "stderr",
          "text": [
            "\n"
          ]
        },
        {
          "output_type": "stream",
          "name": "stdout",
          "text": [
            "\n",
            "      Epoch    GPU_mem   box_loss   cls_loss   dfl_loss  Instances       Size\n"
          ]
        },
        {
          "output_type": "stream",
          "name": "stderr",
          "text": [
            "      12/20      2.71G      1.019     0.8224      1.195         33        640: 100%|██████████| 110/110 [00:28<00:00,  3.84it/s]\n",
            "                 Class     Images  Instances      Box(P          R      mAP50  mAP50-95): 100%|██████████| 16/16 [00:04<00:00,  3.87it/s]\n"
          ]
        },
        {
          "output_type": "stream",
          "name": "stdout",
          "text": [
            "                   all        502       1567      0.836      0.813       0.87      0.647\n",
            "\n",
            "      Epoch    GPU_mem   box_loss   cls_loss   dfl_loss  Instances       Size\n"
          ]
        },
        {
          "output_type": "stream",
          "name": "stderr",
          "text": [
            "      13/20      2.72G     0.9888     0.7829      1.174         35        640: 100%|██████████| 110/110 [00:29<00:00,  3.76it/s]\n",
            "                 Class     Images  Instances      Box(P          R      mAP50  mAP50-95): 100%|██████████| 16/16 [00:04<00:00,  3.32it/s]\n"
          ]
        },
        {
          "output_type": "stream",
          "name": "stdout",
          "text": [
            "                   all        502       1567      0.884       0.81      0.893       0.65\n",
            "\n",
            "      Epoch    GPU_mem   box_loss   cls_loss   dfl_loss  Instances       Size\n"
          ]
        },
        {
          "output_type": "stream",
          "name": "stderr",
          "text": [
            "      14/20      2.74G     0.9653     0.7483      1.162         30        640: 100%|██████████| 110/110 [00:28<00:00,  3.83it/s]\n",
            "                 Class     Images  Instances      Box(P          R      mAP50  mAP50-95): 100%|██████████| 16/16 [00:04<00:00,  3.65it/s]"
          ]
        },
        {
          "output_type": "stream",
          "name": "stdout",
          "text": [
            "                   all        502       1567      0.881      0.848      0.912      0.687\n"
          ]
        },
        {
          "output_type": "stream",
          "name": "stderr",
          "text": [
            "\n"
          ]
        },
        {
          "output_type": "stream",
          "name": "stdout",
          "text": [
            "\n",
            "      Epoch    GPU_mem   box_loss   cls_loss   dfl_loss  Instances       Size\n"
          ]
        },
        {
          "output_type": "stream",
          "name": "stderr",
          "text": [
            "      15/20      2.76G     0.9413     0.7059      1.145         40        640: 100%|██████████| 110/110 [00:29<00:00,  3.75it/s]\n",
            "                 Class     Images  Instances      Box(P          R      mAP50  mAP50-95): 100%|██████████| 16/16 [00:04<00:00,  3.77it/s]\n"
          ]
        },
        {
          "output_type": "stream",
          "name": "stdout",
          "text": [
            "                   all        502       1567      0.891      0.839      0.912      0.694\n",
            "\n",
            "      Epoch    GPU_mem   box_loss   cls_loss   dfl_loss  Instances       Size\n"
          ]
        },
        {
          "output_type": "stream",
          "name": "stderr",
          "text": [
            "      16/20      2.78G     0.9273     0.6786      1.136         43        640: 100%|██████████| 110/110 [00:28<00:00,  3.84it/s]\n",
            "                 Class     Images  Instances      Box(P          R      mAP50  mAP50-95): 100%|██████████| 16/16 [00:05<00:00,  3.11it/s]\n"
          ]
        },
        {
          "output_type": "stream",
          "name": "stdout",
          "text": [
            "                   all        502       1567      0.879      0.865      0.922      0.697\n",
            "\n",
            "      Epoch    GPU_mem   box_loss   cls_loss   dfl_loss  Instances       Size\n"
          ]
        },
        {
          "output_type": "stream",
          "name": "stderr",
          "text": [
            "      17/20      2.79G     0.8953      0.661      1.117         41        640: 100%|██████████| 110/110 [00:28<00:00,  3.83it/s]\n",
            "                 Class     Images  Instances      Box(P          R      mAP50  mAP50-95): 100%|██████████| 16/16 [00:04<00:00,  3.82it/s]\n"
          ]
        },
        {
          "output_type": "stream",
          "name": "stdout",
          "text": [
            "                   all        502       1567      0.897      0.874      0.924      0.715\n",
            "\n",
            "      Epoch    GPU_mem   box_loss   cls_loss   dfl_loss  Instances       Size\n"
          ]
        },
        {
          "output_type": "stream",
          "name": "stderr",
          "text": [
            "      18/20      2.81G     0.8722     0.6345      1.101         39        640: 100%|██████████| 110/110 [00:28<00:00,  3.80it/s]\n",
            "                 Class     Images  Instances      Box(P          R      mAP50  mAP50-95): 100%|██████████| 16/16 [00:04<00:00,  3.26it/s]"
          ]
        },
        {
          "output_type": "stream",
          "name": "stdout",
          "text": [
            "                   all        502       1567      0.903      0.876       0.93      0.721\n"
          ]
        },
        {
          "output_type": "stream",
          "name": "stderr",
          "text": [
            "\n"
          ]
        },
        {
          "output_type": "stream",
          "name": "stdout",
          "text": [
            "\n",
            "      Epoch    GPU_mem   box_loss   cls_loss   dfl_loss  Instances       Size\n"
          ]
        },
        {
          "output_type": "stream",
          "name": "stderr",
          "text": [
            "      19/20      2.83G     0.8475     0.6026      1.091         38        640: 100%|██████████| 110/110 [00:28<00:00,  3.88it/s]\n",
            "                 Class     Images  Instances      Box(P          R      mAP50  mAP50-95): 100%|██████████| 16/16 [00:04<00:00,  3.70it/s]"
          ]
        },
        {
          "output_type": "stream",
          "name": "stdout",
          "text": [
            "                   all        502       1567      0.905       0.87      0.933       0.72\n"
          ]
        },
        {
          "output_type": "stream",
          "name": "stderr",
          "text": [
            "\n"
          ]
        },
        {
          "output_type": "stream",
          "name": "stdout",
          "text": [
            "\n",
            "      Epoch    GPU_mem   box_loss   cls_loss   dfl_loss  Instances       Size\n"
          ]
        },
        {
          "output_type": "stream",
          "name": "stderr",
          "text": [
            "      20/20      2.85G     0.8389     0.5878      1.088         39        640: 100%|██████████| 110/110 [00:29<00:00,  3.75it/s]\n",
            "                 Class     Images  Instances      Box(P          R      mAP50  mAP50-95): 100%|██████████| 16/16 [00:04<00:00,  3.91it/s]"
          ]
        },
        {
          "output_type": "stream",
          "name": "stdout",
          "text": [
            "                   all        502       1567      0.909       0.87      0.935      0.731\n"
          ]
        },
        {
          "output_type": "stream",
          "name": "stderr",
          "text": [
            "\n"
          ]
        },
        {
          "output_type": "stream",
          "name": "stdout",
          "text": [
            "\n",
            "20 epochs completed in 0.203 hours.\n",
            "Optimizer stripped from runs/detect/train/weights/last.pt, 6.2MB\n",
            "Optimizer stripped from runs/detect/train/weights/best.pt, 6.2MB\n",
            "\n",
            "Validating runs/detect/train/weights/best.pt...\n",
            "Ultralytics 8.3.119 🚀 Python-3.11.12 torch-2.6.0+cu124 CUDA:0 (Tesla T4, 15095MiB)\n",
            "Model summary (fused): 72 layers, 3,005,843 parameters, 0 gradients, 8.1 GFLOPs\n"
          ]
        },
        {
          "output_type": "stream",
          "name": "stderr",
          "text": [
            "                 Class     Images  Instances      Box(P          R      mAP50  mAP50-95): 100%|██████████| 16/16 [00:07<00:00,  2.21it/s]\n"
          ]
        },
        {
          "output_type": "stream",
          "name": "stdout",
          "text": [
            "                   all        502       1567      0.907      0.871      0.935      0.731\n",
            "Speed: 0.2ms preprocess, 2.5ms inference, 0.0ms loss, 3.6ms postprocess per image\n",
            "Results saved to \u001b[1mruns/detect/train\u001b[0m\n"
          ]
        },
        {
          "output_type": "execute_result",
          "data": {
            "text/plain": [
              "ultralytics.utils.metrics.DetMetrics object with attributes:\n",
              "\n",
              "ap_class_index: array([0])\n",
              "box: ultralytics.utils.metrics.Metric object\n",
              "confusion_matrix: <ultralytics.utils.metrics.ConfusionMatrix object at 0x7e152d725090>\n",
              "curves: ['Precision-Recall(B)', 'F1-Confidence(B)', 'Precision-Confidence(B)', 'Recall-Confidence(B)']\n",
              "curves_results: [[array([          0,    0.001001,    0.002002,    0.003003,    0.004004,    0.005005,    0.006006,    0.007007,    0.008008,    0.009009,     0.01001,    0.011011,    0.012012,    0.013013,    0.014014,    0.015015,    0.016016,    0.017017,    0.018018,    0.019019,     0.02002,    0.021021,    0.022022,    0.023023,\n",
              "          0.024024,    0.025025,    0.026026,    0.027027,    0.028028,    0.029029,     0.03003,    0.031031,    0.032032,    0.033033,    0.034034,    0.035035,    0.036036,    0.037037,    0.038038,    0.039039,     0.04004,    0.041041,    0.042042,    0.043043,    0.044044,    0.045045,    0.046046,    0.047047,\n",
              "          0.048048,    0.049049,     0.05005,    0.051051,    0.052052,    0.053053,    0.054054,    0.055055,    0.056056,    0.057057,    0.058058,    0.059059,     0.06006,    0.061061,    0.062062,    0.063063,    0.064064,    0.065065,    0.066066,    0.067067,    0.068068,    0.069069,     0.07007,    0.071071,\n",
              "          0.072072,    0.073073,    0.074074,    0.075075,    0.076076,    0.077077,    0.078078,    0.079079,     0.08008,    0.081081,    0.082082,    0.083083,    0.084084,    0.085085,    0.086086,    0.087087,    0.088088,    0.089089,     0.09009,    0.091091,    0.092092,    0.093093,    0.094094,    0.095095,\n",
              "          0.096096,    0.097097,    0.098098,    0.099099,      0.1001,      0.1011,      0.1021,      0.1031,      0.1041,     0.10511,     0.10611,     0.10711,     0.10811,     0.10911,     0.11011,     0.11111,     0.11211,     0.11311,     0.11411,     0.11512,     0.11612,     0.11712,     0.11812,     0.11912,\n",
              "           0.12012,     0.12112,     0.12212,     0.12312,     0.12412,     0.12513,     0.12613,     0.12713,     0.12813,     0.12913,     0.13013,     0.13113,     0.13213,     0.13313,     0.13413,     0.13514,     0.13614,     0.13714,     0.13814,     0.13914,     0.14014,     0.14114,     0.14214,     0.14314,\n",
              "           0.14414,     0.14515,     0.14615,     0.14715,     0.14815,     0.14915,     0.15015,     0.15115,     0.15215,     0.15315,     0.15415,     0.15516,     0.15616,     0.15716,     0.15816,     0.15916,     0.16016,     0.16116,     0.16216,     0.16316,     0.16416,     0.16517,     0.16617,     0.16717,\n",
              "           0.16817,     0.16917,     0.17017,     0.17117,     0.17217,     0.17317,     0.17417,     0.17518,     0.17618,     0.17718,     0.17818,     0.17918,     0.18018,     0.18118,     0.18218,     0.18318,     0.18418,     0.18519,     0.18619,     0.18719,     0.18819,     0.18919,     0.19019,     0.19119,\n",
              "           0.19219,     0.19319,     0.19419,      0.1952,      0.1962,      0.1972,      0.1982,      0.1992,      0.2002,      0.2012,      0.2022,      0.2032,      0.2042,     0.20521,     0.20621,     0.20721,     0.20821,     0.20921,     0.21021,     0.21121,     0.21221,     0.21321,     0.21421,     0.21522,\n",
              "           0.21622,     0.21722,     0.21822,     0.21922,     0.22022,     0.22122,     0.22222,     0.22322,     0.22422,     0.22523,     0.22623,     0.22723,     0.22823,     0.22923,     0.23023,     0.23123,     0.23223,     0.23323,     0.23423,     0.23524,     0.23624,     0.23724,     0.23824,     0.23924,\n",
              "           0.24024,     0.24124,     0.24224,     0.24324,     0.24424,     0.24525,     0.24625,     0.24725,     0.24825,     0.24925,     0.25025,     0.25125,     0.25225,     0.25325,     0.25425,     0.25526,     0.25626,     0.25726,     0.25826,     0.25926,     0.26026,     0.26126,     0.26226,     0.26326,\n",
              "           0.26426,     0.26527,     0.26627,     0.26727,     0.26827,     0.26927,     0.27027,     0.27127,     0.27227,     0.27327,     0.27427,     0.27528,     0.27628,     0.27728,     0.27828,     0.27928,     0.28028,     0.28128,     0.28228,     0.28328,     0.28428,     0.28529,     0.28629,     0.28729,\n",
              "           0.28829,     0.28929,     0.29029,     0.29129,     0.29229,     0.29329,     0.29429,      0.2953,      0.2963,      0.2973,      0.2983,      0.2993,      0.3003,      0.3013,      0.3023,      0.3033,      0.3043,     0.30531,     0.30631,     0.30731,     0.30831,     0.30931,     0.31031,     0.31131,\n",
              "           0.31231,     0.31331,     0.31431,     0.31532,     0.31632,     0.31732,     0.31832,     0.31932,     0.32032,     0.32132,     0.32232,     0.32332,     0.32432,     0.32533,     0.32633,     0.32733,     0.32833,     0.32933,     0.33033,     0.33133,     0.33233,     0.33333,     0.33433,     0.33534,\n",
              "           0.33634,     0.33734,     0.33834,     0.33934,     0.34034,     0.34134,     0.34234,     0.34334,     0.34434,     0.34535,     0.34635,     0.34735,     0.34835,     0.34935,     0.35035,     0.35135,     0.35235,     0.35335,     0.35435,     0.35536,     0.35636,     0.35736,     0.35836,     0.35936,\n",
              "           0.36036,     0.36136,     0.36236,     0.36336,     0.36436,     0.36537,     0.36637,     0.36737,     0.36837,     0.36937,     0.37037,     0.37137,     0.37237,     0.37337,     0.37437,     0.37538,     0.37638,     0.37738,     0.37838,     0.37938,     0.38038,     0.38138,     0.38238,     0.38338,\n",
              "           0.38438,     0.38539,     0.38639,     0.38739,     0.38839,     0.38939,     0.39039,     0.39139,     0.39239,     0.39339,     0.39439,      0.3954,      0.3964,      0.3974,      0.3984,      0.3994,      0.4004,      0.4014,      0.4024,      0.4034,      0.4044,     0.40541,     0.40641,     0.40741,\n",
              "           0.40841,     0.40941,     0.41041,     0.41141,     0.41241,     0.41341,     0.41441,     0.41542,     0.41642,     0.41742,     0.41842,     0.41942,     0.42042,     0.42142,     0.42242,     0.42342,     0.42442,     0.42543,     0.42643,     0.42743,     0.42843,     0.42943,     0.43043,     0.43143,\n",
              "           0.43243,     0.43343,     0.43443,     0.43544,     0.43644,     0.43744,     0.43844,     0.43944,     0.44044,     0.44144,     0.44244,     0.44344,     0.44444,     0.44545,     0.44645,     0.44745,     0.44845,     0.44945,     0.45045,     0.45145,     0.45245,     0.45345,     0.45445,     0.45546,\n",
              "           0.45646,     0.45746,     0.45846,     0.45946,     0.46046,     0.46146,     0.46246,     0.46346,     0.46446,     0.46547,     0.46647,     0.46747,     0.46847,     0.46947,     0.47047,     0.47147,     0.47247,     0.47347,     0.47447,     0.47548,     0.47648,     0.47748,     0.47848,     0.47948,\n",
              "           0.48048,     0.48148,     0.48248,     0.48348,     0.48448,     0.48549,     0.48649,     0.48749,     0.48849,     0.48949,     0.49049,     0.49149,     0.49249,     0.49349,     0.49449,      0.4955,      0.4965,      0.4975,      0.4985,      0.4995,      0.5005,      0.5015,      0.5025,      0.5035,\n",
              "            0.5045,     0.50551,     0.50651,     0.50751,     0.50851,     0.50951,     0.51051,     0.51151,     0.51251,     0.51351,     0.51451,     0.51552,     0.51652,     0.51752,     0.51852,     0.51952,     0.52052,     0.52152,     0.52252,     0.52352,     0.52452,     0.52553,     0.52653,     0.52753,\n",
              "           0.52853,     0.52953,     0.53053,     0.53153,     0.53253,     0.53353,     0.53453,     0.53554,     0.53654,     0.53754,     0.53854,     0.53954,     0.54054,     0.54154,     0.54254,     0.54354,     0.54454,     0.54555,     0.54655,     0.54755,     0.54855,     0.54955,     0.55055,     0.55155,\n",
              "           0.55255,     0.55355,     0.55455,     0.55556,     0.55656,     0.55756,     0.55856,     0.55956,     0.56056,     0.56156,     0.56256,     0.56356,     0.56456,     0.56557,     0.56657,     0.56757,     0.56857,     0.56957,     0.57057,     0.57157,     0.57257,     0.57357,     0.57457,     0.57558,\n",
              "           0.57658,     0.57758,     0.57858,     0.57958,     0.58058,     0.58158,     0.58258,     0.58358,     0.58458,     0.58559,     0.58659,     0.58759,     0.58859,     0.58959,     0.59059,     0.59159,     0.59259,     0.59359,     0.59459,      0.5956,      0.5966,      0.5976,      0.5986,      0.5996,\n",
              "            0.6006,      0.6016,      0.6026,      0.6036,      0.6046,     0.60561,     0.60661,     0.60761,     0.60861,     0.60961,     0.61061,     0.61161,     0.61261,     0.61361,     0.61461,     0.61562,     0.61662,     0.61762,     0.61862,     0.61962,     0.62062,     0.62162,     0.62262,     0.62362,\n",
              "           0.62462,     0.62563,     0.62663,     0.62763,     0.62863,     0.62963,     0.63063,     0.63163,     0.63263,     0.63363,     0.63463,     0.63564,     0.63664,     0.63764,     0.63864,     0.63964,     0.64064,     0.64164,     0.64264,     0.64364,     0.64464,     0.64565,     0.64665,     0.64765,\n",
              "           0.64865,     0.64965,     0.65065,     0.65165,     0.65265,     0.65365,     0.65465,     0.65566,     0.65666,     0.65766,     0.65866,     0.65966,     0.66066,     0.66166,     0.66266,     0.66366,     0.66466,     0.66567,     0.66667,     0.66767,     0.66867,     0.66967,     0.67067,     0.67167,\n",
              "           0.67267,     0.67367,     0.67467,     0.67568,     0.67668,     0.67768,     0.67868,     0.67968,     0.68068,     0.68168,     0.68268,     0.68368,     0.68468,     0.68569,     0.68669,     0.68769,     0.68869,     0.68969,     0.69069,     0.69169,     0.69269,     0.69369,     0.69469,      0.6957,\n",
              "            0.6967,      0.6977,      0.6987,      0.6997,      0.7007,      0.7017,      0.7027,      0.7037,      0.7047,     0.70571,     0.70671,     0.70771,     0.70871,     0.70971,     0.71071,     0.71171,     0.71271,     0.71371,     0.71471,     0.71572,     0.71672,     0.71772,     0.71872,     0.71972,\n",
              "           0.72072,     0.72172,     0.72272,     0.72372,     0.72472,     0.72573,     0.72673,     0.72773,     0.72873,     0.72973,     0.73073,     0.73173,     0.73273,     0.73373,     0.73473,     0.73574,     0.73674,     0.73774,     0.73874,     0.73974,     0.74074,     0.74174,     0.74274,     0.74374,\n",
              "           0.74474,     0.74575,     0.74675,     0.74775,     0.74875,     0.74975,     0.75075,     0.75175,     0.75275,     0.75375,     0.75475,     0.75576,     0.75676,     0.75776,     0.75876,     0.75976,     0.76076,     0.76176,     0.76276,     0.76376,     0.76476,     0.76577,     0.76677,     0.76777,\n",
              "           0.76877,     0.76977,     0.77077,     0.77177,     0.77277,     0.77377,     0.77477,     0.77578,     0.77678,     0.77778,     0.77878,     0.77978,     0.78078,     0.78178,     0.78278,     0.78378,     0.78478,     0.78579,     0.78679,     0.78779,     0.78879,     0.78979,     0.79079,     0.79179,\n",
              "           0.79279,     0.79379,     0.79479,      0.7958,      0.7968,      0.7978,      0.7988,      0.7998,      0.8008,      0.8018,      0.8028,      0.8038,      0.8048,     0.80581,     0.80681,     0.80781,     0.80881,     0.80981,     0.81081,     0.81181,     0.81281,     0.81381,     0.81481,     0.81582,\n",
              "           0.81682,     0.81782,     0.81882,     0.81982,     0.82082,     0.82182,     0.82282,     0.82382,     0.82482,     0.82583,     0.82683,     0.82783,     0.82883,     0.82983,     0.83083,     0.83183,     0.83283,     0.83383,     0.83483,     0.83584,     0.83684,     0.83784,     0.83884,     0.83984,\n",
              "           0.84084,     0.84184,     0.84284,     0.84384,     0.84484,     0.84585,     0.84685,     0.84785,     0.84885,     0.84985,     0.85085,     0.85185,     0.85285,     0.85385,     0.85485,     0.85586,     0.85686,     0.85786,     0.85886,     0.85986,     0.86086,     0.86186,     0.86286,     0.86386,\n",
              "           0.86486,     0.86587,     0.86687,     0.86787,     0.86887,     0.86987,     0.87087,     0.87187,     0.87287,     0.87387,     0.87487,     0.87588,     0.87688,     0.87788,     0.87888,     0.87988,     0.88088,     0.88188,     0.88288,     0.88388,     0.88488,     0.88589,     0.88689,     0.88789,\n",
              "           0.88889,     0.88989,     0.89089,     0.89189,     0.89289,     0.89389,     0.89489,      0.8959,      0.8969,      0.8979,      0.8989,      0.8999,      0.9009,      0.9019,      0.9029,      0.9039,      0.9049,     0.90591,     0.90691,     0.90791,     0.90891,     0.90991,     0.91091,     0.91191,\n",
              "           0.91291,     0.91391,     0.91491,     0.91592,     0.91692,     0.91792,     0.91892,     0.91992,     0.92092,     0.92192,     0.92292,     0.92392,     0.92492,     0.92593,     0.92693,     0.92793,     0.92893,     0.92993,     0.93093,     0.93193,     0.93293,     0.93393,     0.93493,     0.93594,\n",
              "           0.93694,     0.93794,     0.93894,     0.93994,     0.94094,     0.94194,     0.94294,     0.94394,     0.94494,     0.94595,     0.94695,     0.94795,     0.94895,     0.94995,     0.95095,     0.95195,     0.95295,     0.95395,     0.95495,     0.95596,     0.95696,     0.95796,     0.95896,     0.95996,\n",
              "           0.96096,     0.96196,     0.96296,     0.96396,     0.96496,     0.96597,     0.96697,     0.96797,     0.96897,     0.96997,     0.97097,     0.97197,     0.97297,     0.97397,     0.97497,     0.97598,     0.97698,     0.97798,     0.97898,     0.97998,     0.98098,     0.98198,     0.98298,     0.98398,\n",
              "           0.98498,     0.98599,     0.98699,     0.98799,     0.98899,     0.98999,     0.99099,     0.99199,     0.99299,     0.99399,     0.99499,       0.996,       0.997,       0.998,       0.999,           1]), array([[          1,           1,           1,           1,           1,           1,           1,           1,           1,           1,           1,           1,           1,           1,           1,           1,           1,           1,           1,           1,           1,           1,           1,\n",
              "                  1,           1,           1,           1,           1,           1,           1,           1,           1,           1,           1,           1,           1,           1,           1,           1,           1,           1,           1,           1,           1,           1,           1,\n",
              "                  1,           1,           1,           1,           1,           1,           1,           1,           1,           1,           1,           1,           1,           1,           1,           1,           1,           1,           1,           1,           1,           1,           1,\n",
              "                  1,           1,           1,           1,           1,           1,           1,           1,           1,           1,           1,           1,           1,           1,           1,           1,           1,           1,           1,           1,           1,           1,           1,\n",
              "                  1,           1,           1,           1,           1,           1,           1,           1,           1,           1,           1,     0.99454,     0.99454,     0.99454,     0.99454,     0.99454,     0.99454,     0.99454,     0.99454,     0.99454,     0.99454,     0.99454,     0.99454,\n",
              "            0.99454,     0.99454,     0.99149,     0.99149,     0.99149,     0.99149,     0.99149,     0.99149,     0.99149,     0.99149,     0.99149,     0.99149,     0.99149,     0.99149,     0.99149,     0.99149,     0.99149,     0.99149,     0.99149,     0.99149,     0.99149,     0.99149,     0.99149,\n",
              "            0.99149,     0.99149,     0.99149,     0.99149,     0.99149,     0.99149,     0.99149,     0.99149,     0.99149,     0.99149,     0.99149,      0.9899,      0.9899,      0.9899,      0.9899,      0.9899,      0.9899,      0.9899,      0.9899,      0.9899,      0.9899,      0.9899,      0.9899,\n",
              "             0.9899,      0.9899,      0.9899,      0.9899,      0.9899,      0.9899,      0.9899,      0.9899,      0.9899,      0.9899,      0.9899,      0.9899,      0.9899,      0.9899,      0.9899,      0.9899,      0.9899,      0.9899,      0.9899,      0.9899,      0.9899,      0.9899,      0.9899,\n",
              "             0.9899,      0.9899,      0.9899,      0.9899,     0.98945,     0.98945,     0.98945,     0.98945,     0.98945,     0.98945,     0.98945,     0.98945,     0.98945,     0.98945,     0.98945,     0.98945,     0.98945,     0.98945,     0.98945,     0.98945,     0.98945,     0.98945,     0.98945,\n",
              "            0.98945,     0.98945,     0.98945,     0.98945,     0.98945,     0.98945,     0.98945,     0.98945,     0.98945,     0.98945,     0.98945,     0.98945,     0.98945,     0.98945,     0.98945,     0.98945,     0.98945,     0.98945,     0.98945,     0.98945,     0.98945,     0.98945,     0.98945,\n",
              "            0.98945,     0.98945,     0.98945,     0.98945,     0.98945,     0.98945,     0.98945,     0.98945,     0.98945,     0.98945,     0.98762,     0.98762,     0.98762,     0.98762,     0.98762,     0.98762,     0.98762,     0.98762,     0.98762,     0.98762,     0.98762,     0.98762,     0.98762,\n",
              "            0.98762,     0.98762,     0.98394,     0.98394,     0.98394,     0.98394,     0.98394,     0.98394,     0.98394,     0.98394,     0.98394,     0.98394,     0.98394,     0.98394,     0.98394,     0.98394,     0.98394,     0.98394,     0.98394,     0.98394,     0.98394,     0.98268,     0.98268,\n",
              "            0.98268,     0.98268,     0.98268,     0.98268,     0.98268,     0.98268,     0.98268,     0.98268,     0.98268,     0.98268,     0.98268,     0.98268,     0.98268,     0.98268,     0.98184,     0.98184,     0.98184,     0.98184,     0.98184,     0.98184,     0.98184,     0.98184,     0.98184,\n",
              "            0.98184,     0.98184,     0.98184,     0.98184,     0.98184,     0.98184,     0.98184,     0.98184,     0.98184,     0.98184,     0.98184,     0.98184,     0.98184,     0.98184,     0.98184,     0.98184,     0.98184,     0.98184,     0.98184,     0.98184,     0.98184,     0.98184,     0.98184,\n",
              "            0.98184,     0.98184,     0.98184,     0.98184,     0.98184,     0.98184,     0.98184,     0.98184,     0.98184,     0.98184,     0.98184,     0.98184,     0.98184,     0.98184,     0.98184,     0.98184,     0.98184,     0.98184,     0.98184,     0.98184,     0.98184,     0.98184,     0.98184,\n",
              "            0.98184,     0.98184,     0.98184,     0.98184,     0.98184,     0.98184,     0.98184,     0.98184,     0.98184,     0.98184,     0.98184,     0.98184,     0.98184,     0.98184,     0.98184,     0.98184,     0.98184,     0.98184,     0.98184,     0.98184,     0.98184,     0.98184,     0.98184,\n",
              "            0.98184,     0.98184,     0.98184,     0.98184,     0.98184,     0.98184,     0.98184,     0.98184,     0.98184,     0.98184,     0.98184,     0.98184,     0.98184,     0.98184,     0.98184,     0.98184,     0.98184,     0.98184,     0.98184,     0.98184,     0.98184,     0.98184,     0.98184,\n",
              "            0.98184,     0.98184,     0.98184,     0.98184,     0.98184,     0.98184,     0.98184,     0.98184,     0.98184,     0.98184,     0.98184,     0.98184,     0.98184,     0.98184,     0.98184,     0.98184,     0.98184,     0.98184,     0.98184,     0.98184,     0.98184,     0.98184,     0.98184,\n",
              "            0.98184,     0.98184,     0.98184,     0.98184,     0.98184,     0.98184,     0.98184,     0.98184,     0.98184,     0.98184,     0.98184,     0.98184,     0.98184,     0.98184,     0.98184,     0.98184,     0.98184,     0.98184,     0.98184,     0.98184,     0.98184,     0.98184,     0.98184,\n",
              "            0.98184,     0.98184,     0.98184,     0.98184,     0.98184,     0.98184,     0.98184,     0.98184,     0.98184,     0.98184,     0.98184,     0.98184,     0.98184,     0.98184,     0.98184,     0.98184,     0.98184,     0.98184,     0.98184,     0.98184,     0.98184,     0.98184,     0.98184,\n",
              "            0.98184,     0.98184,     0.98184,     0.98184,     0.98184,     0.98184,     0.98184,     0.98184,     0.98184,     0.98184,     0.98184,     0.98184,     0.98184,     0.98184,     0.98184,     0.98184,     0.98184,     0.98184,     0.98184,     0.98184,     0.98184,     0.98184,     0.98184,\n",
              "            0.98184,     0.98184,     0.98184,     0.98184,     0.98184,     0.98184,     0.98184,     0.98184,     0.98184,     0.98184,     0.98184,     0.98184,     0.98184,     0.98184,     0.98184,     0.98184,     0.98184,     0.98184,     0.98184,     0.98184,     0.98184,     0.98184,     0.98184,\n",
              "            0.98184,     0.98184,     0.98184,     0.98184,     0.98184,     0.98184,     0.98184,     0.98184,     0.98184,     0.98184,     0.98184,     0.98184,     0.98122,     0.98122,     0.98122,     0.98122,     0.98122,     0.98122,     0.98122,     0.98122,     0.98122,     0.98122,     0.98122,\n",
              "            0.98122,     0.98122,     0.98122,     0.98122,     0.98122,     0.98122,     0.98122,     0.98122,     0.98122,     0.98122,     0.98122,     0.98122,     0.98122,     0.98122,     0.98122,     0.98122,     0.98122,     0.98122,     0.98122,     0.98122,     0.98122,     0.98122,     0.98122,\n",
              "            0.98122,     0.98122,     0.98122,     0.98122,     0.98122,     0.98122,     0.98122,     0.98122,     0.98122,     0.98122,     0.98122,     0.98122,     0.98122,     0.98122,     0.98122,     0.98031,     0.98031,     0.98031,     0.98031,     0.98031,     0.97863,     0.97863,     0.97863,\n",
              "            0.97863,     0.97863,     0.97863,     0.97863,     0.97863,     0.97863,     0.97863,     0.97863,     0.97863,     0.97835,     0.97835,     0.97835,     0.97835,     0.97835,     0.97835,     0.97835,     0.97835,     0.97835,     0.97835,     0.97835,     0.97835,     0.97835,     0.97835,\n",
              "            0.97835,     0.97835,     0.97835,     0.97835,     0.97835,     0.97835,     0.97835,     0.97835,     0.97764,     0.97764,     0.97764,     0.97764,     0.97764,     0.97764,     0.97764,     0.97764,      0.9767,     0.97583,     0.97583,     0.97583,      0.9753,      0.9753,      0.9753,\n",
              "             0.9753,      0.9753,      0.9753,      0.9753,      0.9753,      0.9753,      0.9753,      0.9753,      0.9753,     0.97438,     0.97348,     0.97287,     0.97287,     0.97287,     0.97287,     0.97287,     0.97287,     0.97287,     0.97287,     0.97287,     0.97238,     0.97238,     0.97238,\n",
              "            0.97238,     0.97238,     0.97238,     0.97238,     0.97238,     0.97238,     0.97238,     0.97162,     0.97162,     0.97162,     0.97162,     0.96975,     0.96975,     0.96975,     0.96975,     0.96975,     0.96975,     0.96975,     0.96975,     0.96975,     0.96975,     0.96975,     0.96975,\n",
              "            0.96975,     0.96975,     0.96975,     0.96975,     0.96975,     0.96975,     0.96975,     0.96975,     0.96945,     0.96945,     0.96945,     0.96945,     0.96945,     0.96945,     0.96945,     0.96945,     0.96945,     0.96945,     0.96945,     0.96945,     0.96945,       0.968,       0.968,\n",
              "              0.968,       0.968,       0.968,       0.968,       0.968,      0.9672,     0.96652,     0.96652,     0.96652,     0.96652,     0.96587,     0.96587,     0.96587,     0.96587,     0.96587,     0.96587,     0.96587,     0.96587,     0.96587,     0.96587,     0.96587,     0.96587,     0.96587,\n",
              "            0.96587,     0.96587,     0.96587,     0.96587,     0.96587,     0.96587,     0.96587,     0.96587,     0.96587,     0.96508,     0.96365,     0.96365,     0.96365,     0.96365,     0.96151,     0.96151,     0.96151,     0.96151,     0.96151,     0.96151,     0.96077,     0.96049,     0.96049,\n",
              "            0.96049,     0.96049,     0.96049,     0.96049,     0.96049,     0.96049,     0.96049,     0.96049,     0.95981,     0.95981,     0.95981,     0.95981,     0.95981,     0.95981,     0.95981,     0.95981,     0.95981,     0.95981,     0.95981,     0.95981,     0.95981,     0.95981,     0.95981,\n",
              "            0.95981,     0.95981,     0.95981,     0.95923,     0.95923,     0.95923,     0.95923,     0.95857,     0.95642,     0.95642,     0.95642,     0.95577,     0.95577,      0.9538,      0.9538,      0.9538,      0.9538,      0.9538,     0.95312,     0.95279,     0.95279,     0.95279,     0.95279,\n",
              "            0.95279,     0.95279,     0.95279,      0.9522,      0.9522,      0.9522,     0.95154,     0.95088,     0.95027,     0.95027,     0.94962,     0.94962,     0.94905,     0.94905,     0.94816,     0.94816,     0.94816,     0.94816,     0.94816,     0.94816,     0.94816,     0.94816,     0.94816,\n",
              "            0.94749,      0.9469,      0.9469,     0.94506,     0.94506,     0.94506,     0.94506,      0.9437,     0.94326,     0.94326,     0.94326,     0.94326,     0.94208,     0.94208,     0.94208,     0.93942,     0.93891,     0.93891,     0.93891,     0.93841,     0.93841,     0.93786,     0.93786,\n",
              "            0.93669,     0.93669,     0.93669,     0.93629,     0.93629,     0.93629,       0.935,     0.93443,     0.93385,     0.93385,     0.93338,     0.93338,     0.93277,     0.93174,     0.93174,     0.93174,     0.93174,     0.93002,     0.93002,     0.93002,     0.92947,     0.92758,     0.92398,\n",
              "            0.92398,     0.92398,      0.9234,     0.92234,     0.92234,     0.92176,     0.92019,     0.92019,     0.92019,     0.92019,     0.91973,     0.91802,     0.91802,     0.91571,     0.91571,     0.91454,     0.91409,     0.91409,     0.90812,      0.9071,      0.9071,     0.90668,     0.90668,\n",
              "            0.90555,     0.90329,     0.90164,     0.90118,     0.90007,     0.89844,     0.89792,     0.89747,     0.89579,     0.89369,     0.89369,     0.89096,     0.88996,     0.88776,     0.88501,     0.88403,     0.88202,     0.88202,      0.8805,     0.87578,     0.87578,     0.87477,     0.87121,\n",
              "            0.87037,     0.87037,     0.86991,     0.86839,     0.86553,     0.86553,      0.8635,     0.86044,     0.85904,     0.85405,      0.8521,     0.84789,     0.84789,     0.84547,     0.84257,     0.83939,     0.83275,     0.83275,     0.83035,     0.83035,     0.83035,     0.82949,     0.81746,\n",
              "            0.81582,       0.815,     0.80613,     0.80534,     0.80199,     0.80177,     0.80055,     0.79868,     0.79868,     0.79847,     0.78908,      0.7838,     0.77725,     0.76369,     0.75334,     0.75269,     0.75102,     0.75077,     0.74873,     0.74469,     0.72553,     0.71491,      0.7147,\n",
              "            0.70577,     0.70356,     0.69657,     0.69573,     0.68924,     0.67976,     0.67437,     0.66414,     0.65181,     0.64203,     0.63671,     0.62741,     0.62313,     0.60557,     0.58613,     0.58613,     0.58401,     0.57723,     0.57557,     0.57442,      0.5362,     0.51498,     0.51427,\n",
              "             0.5089,     0.50855,     0.49495,     0.49431,     0.46587,     0.41515,     0.41239,     0.38914,     0.37916,     0.35044,     0.34654,     0.32834,     0.29771,     0.29607,     0.24695,     0.22559,     0.20732,     0.18505,     0.15576,     0.13075,     0.11553,      0.1087,    0.090754,\n",
              "           0.082504,    0.074253,    0.066003,    0.057752,    0.049502,    0.041252,    0.033001,    0.024751,    0.016501,   0.0082504,           0]]), 'Recall', 'Precision'], [array([          0,    0.001001,    0.002002,    0.003003,    0.004004,    0.005005,    0.006006,    0.007007,    0.008008,    0.009009,     0.01001,    0.011011,    0.012012,    0.013013,    0.014014,    0.015015,    0.016016,    0.017017,    0.018018,    0.019019,     0.02002,    0.021021,    0.022022,    0.023023,\n",
              "          0.024024,    0.025025,    0.026026,    0.027027,    0.028028,    0.029029,     0.03003,    0.031031,    0.032032,    0.033033,    0.034034,    0.035035,    0.036036,    0.037037,    0.038038,    0.039039,     0.04004,    0.041041,    0.042042,    0.043043,    0.044044,    0.045045,    0.046046,    0.047047,\n",
              "          0.048048,    0.049049,     0.05005,    0.051051,    0.052052,    0.053053,    0.054054,    0.055055,    0.056056,    0.057057,    0.058058,    0.059059,     0.06006,    0.061061,    0.062062,    0.063063,    0.064064,    0.065065,    0.066066,    0.067067,    0.068068,    0.069069,     0.07007,    0.071071,\n",
              "          0.072072,    0.073073,    0.074074,    0.075075,    0.076076,    0.077077,    0.078078,    0.079079,     0.08008,    0.081081,    0.082082,    0.083083,    0.084084,    0.085085,    0.086086,    0.087087,    0.088088,    0.089089,     0.09009,    0.091091,    0.092092,    0.093093,    0.094094,    0.095095,\n",
              "          0.096096,    0.097097,    0.098098,    0.099099,      0.1001,      0.1011,      0.1021,      0.1031,      0.1041,     0.10511,     0.10611,     0.10711,     0.10811,     0.10911,     0.11011,     0.11111,     0.11211,     0.11311,     0.11411,     0.11512,     0.11612,     0.11712,     0.11812,     0.11912,\n",
              "           0.12012,     0.12112,     0.12212,     0.12312,     0.12412,     0.12513,     0.12613,     0.12713,     0.12813,     0.12913,     0.13013,     0.13113,     0.13213,     0.13313,     0.13413,     0.13514,     0.13614,     0.13714,     0.13814,     0.13914,     0.14014,     0.14114,     0.14214,     0.14314,\n",
              "           0.14414,     0.14515,     0.14615,     0.14715,     0.14815,     0.14915,     0.15015,     0.15115,     0.15215,     0.15315,     0.15415,     0.15516,     0.15616,     0.15716,     0.15816,     0.15916,     0.16016,     0.16116,     0.16216,     0.16316,     0.16416,     0.16517,     0.16617,     0.16717,\n",
              "           0.16817,     0.16917,     0.17017,     0.17117,     0.17217,     0.17317,     0.17417,     0.17518,     0.17618,     0.17718,     0.17818,     0.17918,     0.18018,     0.18118,     0.18218,     0.18318,     0.18418,     0.18519,     0.18619,     0.18719,     0.18819,     0.18919,     0.19019,     0.19119,\n",
              "           0.19219,     0.19319,     0.19419,      0.1952,      0.1962,      0.1972,      0.1982,      0.1992,      0.2002,      0.2012,      0.2022,      0.2032,      0.2042,     0.20521,     0.20621,     0.20721,     0.20821,     0.20921,     0.21021,     0.21121,     0.21221,     0.21321,     0.21421,     0.21522,\n",
              "           0.21622,     0.21722,     0.21822,     0.21922,     0.22022,     0.22122,     0.22222,     0.22322,     0.22422,     0.22523,     0.22623,     0.22723,     0.22823,     0.22923,     0.23023,     0.23123,     0.23223,     0.23323,     0.23423,     0.23524,     0.23624,     0.23724,     0.23824,     0.23924,\n",
              "           0.24024,     0.24124,     0.24224,     0.24324,     0.24424,     0.24525,     0.24625,     0.24725,     0.24825,     0.24925,     0.25025,     0.25125,     0.25225,     0.25325,     0.25425,     0.25526,     0.25626,     0.25726,     0.25826,     0.25926,     0.26026,     0.26126,     0.26226,     0.26326,\n",
              "           0.26426,     0.26527,     0.26627,     0.26727,     0.26827,     0.26927,     0.27027,     0.27127,     0.27227,     0.27327,     0.27427,     0.27528,     0.27628,     0.27728,     0.27828,     0.27928,     0.28028,     0.28128,     0.28228,     0.28328,     0.28428,     0.28529,     0.28629,     0.28729,\n",
              "           0.28829,     0.28929,     0.29029,     0.29129,     0.29229,     0.29329,     0.29429,      0.2953,      0.2963,      0.2973,      0.2983,      0.2993,      0.3003,      0.3013,      0.3023,      0.3033,      0.3043,     0.30531,     0.30631,     0.30731,     0.30831,     0.30931,     0.31031,     0.31131,\n",
              "           0.31231,     0.31331,     0.31431,     0.31532,     0.31632,     0.31732,     0.31832,     0.31932,     0.32032,     0.32132,     0.32232,     0.32332,     0.32432,     0.32533,     0.32633,     0.32733,     0.32833,     0.32933,     0.33033,     0.33133,     0.33233,     0.33333,     0.33433,     0.33534,\n",
              "           0.33634,     0.33734,     0.33834,     0.33934,     0.34034,     0.34134,     0.34234,     0.34334,     0.34434,     0.34535,     0.34635,     0.34735,     0.34835,     0.34935,     0.35035,     0.35135,     0.35235,     0.35335,     0.35435,     0.35536,     0.35636,     0.35736,     0.35836,     0.35936,\n",
              "           0.36036,     0.36136,     0.36236,     0.36336,     0.36436,     0.36537,     0.36637,     0.36737,     0.36837,     0.36937,     0.37037,     0.37137,     0.37237,     0.37337,     0.37437,     0.37538,     0.37638,     0.37738,     0.37838,     0.37938,     0.38038,     0.38138,     0.38238,     0.38338,\n",
              "           0.38438,     0.38539,     0.38639,     0.38739,     0.38839,     0.38939,     0.39039,     0.39139,     0.39239,     0.39339,     0.39439,      0.3954,      0.3964,      0.3974,      0.3984,      0.3994,      0.4004,      0.4014,      0.4024,      0.4034,      0.4044,     0.40541,     0.40641,     0.40741,\n",
              "           0.40841,     0.40941,     0.41041,     0.41141,     0.41241,     0.41341,     0.41441,     0.41542,     0.41642,     0.41742,     0.41842,     0.41942,     0.42042,     0.42142,     0.42242,     0.42342,     0.42442,     0.42543,     0.42643,     0.42743,     0.42843,     0.42943,     0.43043,     0.43143,\n",
              "           0.43243,     0.43343,     0.43443,     0.43544,     0.43644,     0.43744,     0.43844,     0.43944,     0.44044,     0.44144,     0.44244,     0.44344,     0.44444,     0.44545,     0.44645,     0.44745,     0.44845,     0.44945,     0.45045,     0.45145,     0.45245,     0.45345,     0.45445,     0.45546,\n",
              "           0.45646,     0.45746,     0.45846,     0.45946,     0.46046,     0.46146,     0.46246,     0.46346,     0.46446,     0.46547,     0.46647,     0.46747,     0.46847,     0.46947,     0.47047,     0.47147,     0.47247,     0.47347,     0.47447,     0.47548,     0.47648,     0.47748,     0.47848,     0.47948,\n",
              "           0.48048,     0.48148,     0.48248,     0.48348,     0.48448,     0.48549,     0.48649,     0.48749,     0.48849,     0.48949,     0.49049,     0.49149,     0.49249,     0.49349,     0.49449,      0.4955,      0.4965,      0.4975,      0.4985,      0.4995,      0.5005,      0.5015,      0.5025,      0.5035,\n",
              "            0.5045,     0.50551,     0.50651,     0.50751,     0.50851,     0.50951,     0.51051,     0.51151,     0.51251,     0.51351,     0.51451,     0.51552,     0.51652,     0.51752,     0.51852,     0.51952,     0.52052,     0.52152,     0.52252,     0.52352,     0.52452,     0.52553,     0.52653,     0.52753,\n",
              "           0.52853,     0.52953,     0.53053,     0.53153,     0.53253,     0.53353,     0.53453,     0.53554,     0.53654,     0.53754,     0.53854,     0.53954,     0.54054,     0.54154,     0.54254,     0.54354,     0.54454,     0.54555,     0.54655,     0.54755,     0.54855,     0.54955,     0.55055,     0.55155,\n",
              "           0.55255,     0.55355,     0.55455,     0.55556,     0.55656,     0.55756,     0.55856,     0.55956,     0.56056,     0.56156,     0.56256,     0.56356,     0.56456,     0.56557,     0.56657,     0.56757,     0.56857,     0.56957,     0.57057,     0.57157,     0.57257,     0.57357,     0.57457,     0.57558,\n",
              "           0.57658,     0.57758,     0.57858,     0.57958,     0.58058,     0.58158,     0.58258,     0.58358,     0.58458,     0.58559,     0.58659,     0.58759,     0.58859,     0.58959,     0.59059,     0.59159,     0.59259,     0.59359,     0.59459,      0.5956,      0.5966,      0.5976,      0.5986,      0.5996,\n",
              "            0.6006,      0.6016,      0.6026,      0.6036,      0.6046,     0.60561,     0.60661,     0.60761,     0.60861,     0.60961,     0.61061,     0.61161,     0.61261,     0.61361,     0.61461,     0.61562,     0.61662,     0.61762,     0.61862,     0.61962,     0.62062,     0.62162,     0.62262,     0.62362,\n",
              "           0.62462,     0.62563,     0.62663,     0.62763,     0.62863,     0.62963,     0.63063,     0.63163,     0.63263,     0.63363,     0.63463,     0.63564,     0.63664,     0.63764,     0.63864,     0.63964,     0.64064,     0.64164,     0.64264,     0.64364,     0.64464,     0.64565,     0.64665,     0.64765,\n",
              "           0.64865,     0.64965,     0.65065,     0.65165,     0.65265,     0.65365,     0.65465,     0.65566,     0.65666,     0.65766,     0.65866,     0.65966,     0.66066,     0.66166,     0.66266,     0.66366,     0.66466,     0.66567,     0.66667,     0.66767,     0.66867,     0.66967,     0.67067,     0.67167,\n",
              "           0.67267,     0.67367,     0.67467,     0.67568,     0.67668,     0.67768,     0.67868,     0.67968,     0.68068,     0.68168,     0.68268,     0.68368,     0.68468,     0.68569,     0.68669,     0.68769,     0.68869,     0.68969,     0.69069,     0.69169,     0.69269,     0.69369,     0.69469,      0.6957,\n",
              "            0.6967,      0.6977,      0.6987,      0.6997,      0.7007,      0.7017,      0.7027,      0.7037,      0.7047,     0.70571,     0.70671,     0.70771,     0.70871,     0.70971,     0.71071,     0.71171,     0.71271,     0.71371,     0.71471,     0.71572,     0.71672,     0.71772,     0.71872,     0.71972,\n",
              "           0.72072,     0.72172,     0.72272,     0.72372,     0.72472,     0.72573,     0.72673,     0.72773,     0.72873,     0.72973,     0.73073,     0.73173,     0.73273,     0.73373,     0.73473,     0.73574,     0.73674,     0.73774,     0.73874,     0.73974,     0.74074,     0.74174,     0.74274,     0.74374,\n",
              "           0.74474,     0.74575,     0.74675,     0.74775,     0.74875,     0.74975,     0.75075,     0.75175,     0.75275,     0.75375,     0.75475,     0.75576,     0.75676,     0.75776,     0.75876,     0.75976,     0.76076,     0.76176,     0.76276,     0.76376,     0.76476,     0.76577,     0.76677,     0.76777,\n",
              "           0.76877,     0.76977,     0.77077,     0.77177,     0.77277,     0.77377,     0.77477,     0.77578,     0.77678,     0.77778,     0.77878,     0.77978,     0.78078,     0.78178,     0.78278,     0.78378,     0.78478,     0.78579,     0.78679,     0.78779,     0.78879,     0.78979,     0.79079,     0.79179,\n",
              "           0.79279,     0.79379,     0.79479,      0.7958,      0.7968,      0.7978,      0.7988,      0.7998,      0.8008,      0.8018,      0.8028,      0.8038,      0.8048,     0.80581,     0.80681,     0.80781,     0.80881,     0.80981,     0.81081,     0.81181,     0.81281,     0.81381,     0.81481,     0.81582,\n",
              "           0.81682,     0.81782,     0.81882,     0.81982,     0.82082,     0.82182,     0.82282,     0.82382,     0.82482,     0.82583,     0.82683,     0.82783,     0.82883,     0.82983,     0.83083,     0.83183,     0.83283,     0.83383,     0.83483,     0.83584,     0.83684,     0.83784,     0.83884,     0.83984,\n",
              "           0.84084,     0.84184,     0.84284,     0.84384,     0.84484,     0.84585,     0.84685,     0.84785,     0.84885,     0.84985,     0.85085,     0.85185,     0.85285,     0.85385,     0.85485,     0.85586,     0.85686,     0.85786,     0.85886,     0.85986,     0.86086,     0.86186,     0.86286,     0.86386,\n",
              "           0.86486,     0.86587,     0.86687,     0.86787,     0.86887,     0.86987,     0.87087,     0.87187,     0.87287,     0.87387,     0.87487,     0.87588,     0.87688,     0.87788,     0.87888,     0.87988,     0.88088,     0.88188,     0.88288,     0.88388,     0.88488,     0.88589,     0.88689,     0.88789,\n",
              "           0.88889,     0.88989,     0.89089,     0.89189,     0.89289,     0.89389,     0.89489,      0.8959,      0.8969,      0.8979,      0.8989,      0.8999,      0.9009,      0.9019,      0.9029,      0.9039,      0.9049,     0.90591,     0.90691,     0.90791,     0.90891,     0.90991,     0.91091,     0.91191,\n",
              "           0.91291,     0.91391,     0.91491,     0.91592,     0.91692,     0.91792,     0.91892,     0.91992,     0.92092,     0.92192,     0.92292,     0.92392,     0.92492,     0.92593,     0.92693,     0.92793,     0.92893,     0.92993,     0.93093,     0.93193,     0.93293,     0.93393,     0.93493,     0.93594,\n",
              "           0.93694,     0.93794,     0.93894,     0.93994,     0.94094,     0.94194,     0.94294,     0.94394,     0.94494,     0.94595,     0.94695,     0.94795,     0.94895,     0.94995,     0.95095,     0.95195,     0.95295,     0.95395,     0.95495,     0.95596,     0.95696,     0.95796,     0.95896,     0.95996,\n",
              "           0.96096,     0.96196,     0.96296,     0.96396,     0.96496,     0.96597,     0.96697,     0.96797,     0.96897,     0.96997,     0.97097,     0.97197,     0.97297,     0.97397,     0.97497,     0.97598,     0.97698,     0.97798,     0.97898,     0.97998,     0.98098,     0.98198,     0.98298,     0.98398,\n",
              "           0.98498,     0.98599,     0.98699,     0.98799,     0.98899,     0.98999,     0.99099,     0.99199,     0.99299,     0.99399,     0.99499,       0.996,       0.997,       0.998,       0.999,           1]), array([[     0.1728,      0.1728,     0.26185,      0.3207,     0.36555,     0.40353,     0.43048,     0.45449,     0.47477,     0.49385,     0.50922,     0.52458,     0.53782,     0.54936,     0.56026,     0.57009,     0.57841,     0.58764,     0.59561,     0.60426,     0.61214,     0.61751,     0.62517,\n",
              "            0.63236,     0.63859,     0.64321,     0.64891,     0.65371,     0.65789,     0.66286,     0.66672,     0.66979,     0.67242,     0.67518,     0.68048,     0.68336,     0.68755,     0.69075,     0.69365,     0.69613,     0.69948,     0.70233,     0.70477,     0.70684,     0.70922,     0.71216,\n",
              "            0.71555,     0.71832,     0.72001,     0.72218,     0.72478,     0.72724,     0.72977,     0.73175,     0.73378,     0.73557,     0.73842,     0.73982,     0.74122,     0.74367,     0.74556,     0.74795,     0.74965,     0.75108,     0.75341,     0.75506,     0.75658,     0.75784,     0.75979,\n",
              "            0.76174,     0.76276,     0.76387,     0.76496,     0.76704,     0.76863,     0.76943,     0.77014,     0.77145,     0.77347,     0.77505,     0.77576,     0.77744,     0.77878,     0.78014,     0.78172,     0.78277,     0.78498,     0.78606,     0.78672,     0.78761,     0.78897,     0.79173,\n",
              "            0.79235,     0.79312,     0.79418,      0.7953,      0.7965,     0.79767,     0.79826,     0.79938,      0.8008,     0.80174,     0.80216,     0.80225,     0.80344,     0.80416,     0.80518,      0.8064,     0.80661,     0.80712,     0.80775,     0.80867,     0.80956,     0.80994,      0.8106,\n",
              "            0.81086,     0.81173,     0.81292,     0.81304,     0.81329,      0.8137,     0.81443,     0.81569,     0.81613,     0.81713,     0.81801,     0.81923,     0.81915,     0.82033,     0.82127,     0.82215,     0.82246,     0.82262,     0.82318,     0.82397,     0.82492,     0.82522,     0.82551,\n",
              "            0.82564,     0.82694,     0.82747,     0.82817,     0.82844,     0.82868,     0.82915,     0.82974,     0.83011,     0.83082,     0.83084,     0.83147,      0.8324,     0.83326,     0.83375,     0.83379,     0.83405,      0.8344,     0.83417,      0.8343,     0.83474,     0.83546,     0.83592,\n",
              "            0.83696,     0.83711,     0.83796,     0.83862,     0.83878,     0.83996,     0.84027,     0.84039,     0.84009,      0.8409,     0.84114,     0.84155,     0.84211,     0.84255,     0.84269,     0.84373,     0.84515,     0.84607,     0.84673,     0.84739,      0.8475,      0.8476,     0.84795,\n",
              "            0.84781,     0.84837,     0.84861,     0.84901,     0.84915,     0.84965,     0.85018,     0.85031,     0.85044,     0.85054,     0.85064,     0.85125,     0.85132,     0.85164,     0.85184,      0.8524,     0.85266,     0.85363,     0.85364,     0.85441,     0.85482,     0.85549,     0.85572,\n",
              "            0.85584,     0.85691,     0.85709,     0.85728,     0.85823,     0.85894,     0.85913,     0.85916,     0.85872,     0.85869,     0.85882,     0.85883,     0.85905,     0.85926,     0.85906,     0.85916,     0.85937,     0.86029,     0.86046,     0.86053,      0.8606,     0.86066,     0.86051,\n",
              "            0.86054,     0.86064,     0.86095,     0.86155,     0.86194,     0.86241,     0.86336,     0.86433,     0.86469,     0.86504,     0.86478,     0.86497,     0.86495,     0.86518,     0.86553,     0.86575,     0.86561,     0.86596,     0.86639,     0.86664,     0.86773,     0.86791,     0.86804,\n",
              "            0.86813,     0.86822,       0.869,     0.86985,     0.86997,     0.87009,     0.87074,      0.8715,     0.87168,      0.8721,     0.87163,     0.87116,     0.87089,     0.87116,     0.87152,     0.87165,     0.87176,     0.87184,     0.87187,     0.87142,     0.87193,     0.87209,     0.87266,\n",
              "            0.87279,       0.873,     0.87342,     0.87373,     0.87384,     0.87395,     0.87411,     0.87462,     0.87493,     0.87494,     0.87478,     0.87447,       0.875,     0.87547,     0.87569,     0.87537,     0.87548,     0.87559,     0.87586,     0.87566,     0.87557,     0.87565,     0.87574,\n",
              "            0.87589,     0.87642,     0.87658,     0.87667,     0.87675,     0.87683,     0.87707,     0.87687,     0.87693,     0.87767,     0.87792,     0.87808,     0.87756,     0.87713,      0.8777,     0.87806,     0.87802,      0.8779,     0.87798,     0.87806,     0.87846,     0.87871,     0.87887,\n",
              "            0.87897,     0.87904,      0.8791,     0.87917,     0.87897,     0.87929,     0.87952,     0.87968,     0.87988,     0.88004,     0.88026,     0.88058,     0.88092,     0.88105,     0.88116,     0.88182,     0.88198,     0.88189,     0.88185,     0.88174,     0.88169,     0.88175,     0.88181,\n",
              "            0.88188,     0.88163,       0.882,     0.88199,     0.88181,     0.88189,     0.88205,     0.88288,     0.88304,     0.88329,     0.88321,      0.8838,       0.884,     0.88416,     0.88365,     0.88347,     0.88308,      0.8829,     0.88283,     0.88299,     0.88323,     0.88347,     0.88384,\n",
              "            0.88425,     0.88436,     0.88434,     0.88416,     0.88469,     0.88485,      0.8847,     0.88463,     0.88473,     0.88484,     0.88451,      0.8838,     0.88395,     0.88425,     0.88389,     0.88374,     0.88403,     0.88402,     0.88404,     0.88432,     0.88451,     0.88465,     0.88518,\n",
              "            0.88545,     0.88527,      0.8847,     0.88553,      0.8857,     0.88591,      0.8862,     0.88642,     0.88656,     0.88667,     0.88673,     0.88679,     0.88685,     0.88691,     0.88661,     0.88671,     0.88678,     0.88655,     0.88684,     0.88666,     0.88648,     0.88644,     0.88656,\n",
              "            0.88636,     0.88674,     0.88703,       0.887,     0.88682,     0.88698,     0.88678,     0.88692,     0.88676,     0.88692,     0.88706,     0.88723,      0.8878,     0.88801,     0.88782,      0.8886,     0.88843,     0.88831,     0.88819,     0.88856,     0.88864,     0.88925,     0.88915,\n",
              "            0.88879,     0.88888,     0.88903,     0.88913,     0.88923,     0.88895,     0.88902,     0.88909,     0.88917,     0.88913,     0.88966,     0.88962,     0.88934,     0.88944,     0.88953,     0.88934,      0.8892,     0.88941,     0.88903,     0.88885,     0.88879,     0.88889,     0.88898,\n",
              "            0.88939,     0.88963,     0.88926,     0.88918,     0.88892,     0.88874,     0.88886,     0.88906,     0.88921,     0.88946,     0.88919,     0.88962,     0.88984,     0.88989,     0.88967,     0.88949,      0.8893,     0.88912,     0.88892,     0.88879,     0.88867,     0.88832,     0.88862,\n",
              "            0.88883,     0.88898,     0.88973,     0.89002,     0.89057,     0.89063,     0.89069,     0.89075,     0.89081,     0.89087,     0.89095,     0.89102,      0.8911,     0.89099,     0.89099,      0.8908,     0.89017,     0.89009,     0.89039,     0.89021,     0.88955,     0.88987,     0.89017,\n",
              "            0.89034,     0.89044,     0.89054,     0.89048,     0.89035,     0.89023,      0.8901,     0.88998,     0.88986,     0.88951,     0.88974,     0.89033,        0.89,     0.88963,     0.88944,     0.88843,     0.88772,     0.88787,     0.88829,     0.88822,     0.88814,     0.88807,     0.88799,\n",
              "            0.88788,     0.88795,     0.88803,      0.8881,     0.88803,     0.88765,     0.88711,     0.88726,     0.88711,     0.88694,     0.88704,     0.88715,     0.88699,     0.88672,     0.88653,     0.88586,      0.8859,     0.88583,     0.88614,     0.88644,     0.88674,     0.88689,     0.88699,\n",
              "            0.88709,     0.88729,     0.88759,     0.88702,     0.88717,     0.88553,     0.88604,     0.88528,      0.8849,     0.88452,     0.88413,     0.88435,     0.88451,     0.88432,     0.88439,      0.8844,     0.88427,     0.88414,     0.88404,     0.88394,     0.88385,     0.88375,     0.88341,\n",
              "            0.88303,     0.88326,     0.88311,     0.88291,     0.88254,     0.88226,      0.8821,     0.88216,     0.88237,     0.88198,     0.88122,     0.88045,     0.88043,     0.88058,     0.87958,     0.87914,     0.87919,     0.87925,      0.8793,     0.87935,      0.8794,     0.87959,     0.87953,\n",
              "            0.87885,     0.87866,     0.87828,     0.87789,      0.8775,     0.87703,     0.87625,     0.87616,     0.87652,     0.87629,     0.87655,     0.87663,      0.8767,     0.87678,     0.87671,      0.8754,     0.87546,     0.87529,      0.8755,     0.87477,     0.87437,     0.87398,      0.8732,\n",
              "            0.87336,     0.87313,     0.87368,     0.87291,     0.87265,     0.87242,     0.87222,     0.87171,     0.87161,     0.87151,     0.87141,      0.8714,     0.87177,     0.87098,     0.87085,     0.87093,     0.87066,     0.87037,     0.87017,     0.86997,     0.86937,     0.86859,     0.86843,\n",
              "            0.86827,     0.86796,     0.86756,     0.86676,     0.86606,     0.86554,      0.8658,     0.86596,     0.86594,     0.86479,     0.86452,     0.86462,     0.86478,     0.86442,     0.86405,     0.86381,     0.86361,      0.8632,     0.86269,     0.86281,     0.86248,     0.86241,     0.86224,\n",
              "            0.86208,     0.86175,     0.86112,     0.86096,     0.86088,     0.86104,     0.86047,        0.86,     0.85919,      0.8581,     0.85777,     0.85688,     0.85644,      0.8564,     0.85613,     0.85592,     0.85531,     0.85503,     0.85346,     0.85352,     0.85306,     0.85322,      0.8523,\n",
              "            0.85191,     0.85222,     0.85237,     0.85211,      0.8519,     0.85167,     0.85139,     0.85165,     0.85066,     0.85024,     0.84962,     0.84909,     0.84865,     0.84764,     0.84737,      0.8472,     0.84699,     0.84618,      0.8459,     0.84562,     0.84448,     0.84285,     0.84257,\n",
              "            0.84217,     0.84175,     0.83973,     0.83873,     0.83895,     0.83856,     0.83751,     0.83708,     0.83434,     0.83388,     0.83326,     0.83229,     0.83025,     0.82974,     0.82832,     0.82855,     0.82886,     0.82901,     0.82872,     0.82725,     0.82686,     0.82657,     0.82637,\n",
              "            0.82653,     0.82654,     0.82616,     0.82551,     0.82486,     0.82456,     0.82333,     0.82202,     0.82007,     0.81956,     0.81853,      0.8178,     0.81757,     0.81719,      0.8139,     0.81245,     0.81221,     0.81179,     0.81167,     0.81116,     0.80982,     0.80879,     0.80664,\n",
              "            0.80626,     0.80596,      0.8058,     0.80565,     0.80543,     0.80517,     0.80376,     0.80279,     0.80201,     0.80145,     0.79929,      0.7969,     0.79588,     0.79458,     0.79396,     0.79274,     0.79188,     0.79157,     0.78974,     0.78881,     0.78512,     0.78325,     0.78255,\n",
              "            0.78252,      0.7811,     0.78017,     0.77915,     0.77872,     0.77762,     0.77507,     0.77474,     0.77272,     0.77247,      0.7725,     0.77221,     0.77036,     0.76981,     0.76862,     0.76659,     0.76626,     0.76594,     0.76558,     0.76528,     0.76504,     0.76388,      0.7632,\n",
              "            0.76222,     0.76101,     0.75897,     0.75749,     0.75521,     0.75297,     0.75162,     0.75047,     0.74804,     0.74646,     0.74596,     0.74524,     0.74395,     0.74194,     0.74019,     0.73667,     0.73632,     0.73211,     0.73177,     0.73181,     0.73076,     0.72768,     0.72674,\n",
              "            0.72508,       0.723,     0.72187,     0.72044,     0.71825,     0.71601,      0.7139,     0.71021,     0.70544,     0.70406,      0.7022,     0.70005,     0.69681,     0.69517,     0.69407,     0.69135,     0.68895,     0.68649,     0.68584,     0.68227,     0.67949,     0.67699,     0.67474,\n",
              "            0.67305,     0.66911,     0.66628,     0.66117,     0.65773,     0.65256,     0.65081,     0.64963,     0.64555,     0.63854,     0.63791,     0.63463,     0.63283,     0.63021,     0.62743,     0.62441,     0.61898,     0.61592,     0.61225,     0.60978,     0.60791,     0.60296,     0.59974,\n",
              "            0.59483,     0.59167,     0.58533,     0.58022,     0.57725,     0.57208,     0.56491,      0.5603,     0.55764,     0.55365,     0.54963,      0.5476,     0.54153,     0.53566,     0.53238,     0.53082,     0.52692,      0.5179,     0.51577,     0.50943,     0.50303,     0.49865,     0.49151,\n",
              "            0.48713,     0.48369,     0.47633,     0.46667,     0.46214,       0.451,     0.44514,     0.43886,     0.43104,      0.4284,     0.42174,     0.41592,     0.40568,     0.40362,     0.39707,     0.39211,     0.38794,     0.38396,     0.37883,     0.37468,     0.36278,     0.35929,     0.35239,\n",
              "            0.34016,      0.3366,     0.33214,     0.32677,     0.31867,      0.3174,     0.31242,     0.30417,     0.29861,     0.29302,     0.28645,     0.27889,     0.27221,     0.26453,     0.25967,     0.25298,     0.24512,     0.23861,     0.23713,     0.23012,     0.22406,     0.21492,     0.20875,\n",
              "            0.20369,     0.20119,     0.19932,     0.19734,     0.19313,     0.18786,     0.18372,     0.18026,     0.16982,     0.16045,      0.1568,     0.15131,     0.14249,     0.13691,     0.13569,      0.1279,     0.12448,      0.1086,     0.10164,    0.093588,    0.088793,    0.082889,    0.077125,\n",
              "           0.075709,    0.069724,    0.056496,    0.050391,    0.045466,    0.042229,    0.041393,    0.036711,    0.031718,     0.02736,    0.026511,    0.024023,    0.017774,    0.012684,    0.012313,    0.011944,    0.011575,    0.011043,    0.010396,   0.0088188,      0.0083,   0.0077809,   0.0067104,\n",
              "          0.0057272,   0.0043942,           0,           0,           0,           0,           0,           0,           0,           0,           0]]), 'Confidence', 'F1'], [array([          0,    0.001001,    0.002002,    0.003003,    0.004004,    0.005005,    0.006006,    0.007007,    0.008008,    0.009009,     0.01001,    0.011011,    0.012012,    0.013013,    0.014014,    0.015015,    0.016016,    0.017017,    0.018018,    0.019019,     0.02002,    0.021021,    0.022022,    0.023023,\n",
              "          0.024024,    0.025025,    0.026026,    0.027027,    0.028028,    0.029029,     0.03003,    0.031031,    0.032032,    0.033033,    0.034034,    0.035035,    0.036036,    0.037037,    0.038038,    0.039039,     0.04004,    0.041041,    0.042042,    0.043043,    0.044044,    0.045045,    0.046046,    0.047047,\n",
              "          0.048048,    0.049049,     0.05005,    0.051051,    0.052052,    0.053053,    0.054054,    0.055055,    0.056056,    0.057057,    0.058058,    0.059059,     0.06006,    0.061061,    0.062062,    0.063063,    0.064064,    0.065065,    0.066066,    0.067067,    0.068068,    0.069069,     0.07007,    0.071071,\n",
              "          0.072072,    0.073073,    0.074074,    0.075075,    0.076076,    0.077077,    0.078078,    0.079079,     0.08008,    0.081081,    0.082082,    0.083083,    0.084084,    0.085085,    0.086086,    0.087087,    0.088088,    0.089089,     0.09009,    0.091091,    0.092092,    0.093093,    0.094094,    0.095095,\n",
              "          0.096096,    0.097097,    0.098098,    0.099099,      0.1001,      0.1011,      0.1021,      0.1031,      0.1041,     0.10511,     0.10611,     0.10711,     0.10811,     0.10911,     0.11011,     0.11111,     0.11211,     0.11311,     0.11411,     0.11512,     0.11612,     0.11712,     0.11812,     0.11912,\n",
              "           0.12012,     0.12112,     0.12212,     0.12312,     0.12412,     0.12513,     0.12613,     0.12713,     0.12813,     0.12913,     0.13013,     0.13113,     0.13213,     0.13313,     0.13413,     0.13514,     0.13614,     0.13714,     0.13814,     0.13914,     0.14014,     0.14114,     0.14214,     0.14314,\n",
              "           0.14414,     0.14515,     0.14615,     0.14715,     0.14815,     0.14915,     0.15015,     0.15115,     0.15215,     0.15315,     0.15415,     0.15516,     0.15616,     0.15716,     0.15816,     0.15916,     0.16016,     0.16116,     0.16216,     0.16316,     0.16416,     0.16517,     0.16617,     0.16717,\n",
              "           0.16817,     0.16917,     0.17017,     0.17117,     0.17217,     0.17317,     0.17417,     0.17518,     0.17618,     0.17718,     0.17818,     0.17918,     0.18018,     0.18118,     0.18218,     0.18318,     0.18418,     0.18519,     0.18619,     0.18719,     0.18819,     0.18919,     0.19019,     0.19119,\n",
              "           0.19219,     0.19319,     0.19419,      0.1952,      0.1962,      0.1972,      0.1982,      0.1992,      0.2002,      0.2012,      0.2022,      0.2032,      0.2042,     0.20521,     0.20621,     0.20721,     0.20821,     0.20921,     0.21021,     0.21121,     0.21221,     0.21321,     0.21421,     0.21522,\n",
              "           0.21622,     0.21722,     0.21822,     0.21922,     0.22022,     0.22122,     0.22222,     0.22322,     0.22422,     0.22523,     0.22623,     0.22723,     0.22823,     0.22923,     0.23023,     0.23123,     0.23223,     0.23323,     0.23423,     0.23524,     0.23624,     0.23724,     0.23824,     0.23924,\n",
              "           0.24024,     0.24124,     0.24224,     0.24324,     0.24424,     0.24525,     0.24625,     0.24725,     0.24825,     0.24925,     0.25025,     0.25125,     0.25225,     0.25325,     0.25425,     0.25526,     0.25626,     0.25726,     0.25826,     0.25926,     0.26026,     0.26126,     0.26226,     0.26326,\n",
              "           0.26426,     0.26527,     0.26627,     0.26727,     0.26827,     0.26927,     0.27027,     0.27127,     0.27227,     0.27327,     0.27427,     0.27528,     0.27628,     0.27728,     0.27828,     0.27928,     0.28028,     0.28128,     0.28228,     0.28328,     0.28428,     0.28529,     0.28629,     0.28729,\n",
              "           0.28829,     0.28929,     0.29029,     0.29129,     0.29229,     0.29329,     0.29429,      0.2953,      0.2963,      0.2973,      0.2983,      0.2993,      0.3003,      0.3013,      0.3023,      0.3033,      0.3043,     0.30531,     0.30631,     0.30731,     0.30831,     0.30931,     0.31031,     0.31131,\n",
              "           0.31231,     0.31331,     0.31431,     0.31532,     0.31632,     0.31732,     0.31832,     0.31932,     0.32032,     0.32132,     0.32232,     0.32332,     0.32432,     0.32533,     0.32633,     0.32733,     0.32833,     0.32933,     0.33033,     0.33133,     0.33233,     0.33333,     0.33433,     0.33534,\n",
              "           0.33634,     0.33734,     0.33834,     0.33934,     0.34034,     0.34134,     0.34234,     0.34334,     0.34434,     0.34535,     0.34635,     0.34735,     0.34835,     0.34935,     0.35035,     0.35135,     0.35235,     0.35335,     0.35435,     0.35536,     0.35636,     0.35736,     0.35836,     0.35936,\n",
              "           0.36036,     0.36136,     0.36236,     0.36336,     0.36436,     0.36537,     0.36637,     0.36737,     0.36837,     0.36937,     0.37037,     0.37137,     0.37237,     0.37337,     0.37437,     0.37538,     0.37638,     0.37738,     0.37838,     0.37938,     0.38038,     0.38138,     0.38238,     0.38338,\n",
              "           0.38438,     0.38539,     0.38639,     0.38739,     0.38839,     0.38939,     0.39039,     0.39139,     0.39239,     0.39339,     0.39439,      0.3954,      0.3964,      0.3974,      0.3984,      0.3994,      0.4004,      0.4014,      0.4024,      0.4034,      0.4044,     0.40541,     0.40641,     0.40741,\n",
              "           0.40841,     0.40941,     0.41041,     0.41141,     0.41241,     0.41341,     0.41441,     0.41542,     0.41642,     0.41742,     0.41842,     0.41942,     0.42042,     0.42142,     0.42242,     0.42342,     0.42442,     0.42543,     0.42643,     0.42743,     0.42843,     0.42943,     0.43043,     0.43143,\n",
              "           0.43243,     0.43343,     0.43443,     0.43544,     0.43644,     0.43744,     0.43844,     0.43944,     0.44044,     0.44144,     0.44244,     0.44344,     0.44444,     0.44545,     0.44645,     0.44745,     0.44845,     0.44945,     0.45045,     0.45145,     0.45245,     0.45345,     0.45445,     0.45546,\n",
              "           0.45646,     0.45746,     0.45846,     0.45946,     0.46046,     0.46146,     0.46246,     0.46346,     0.46446,     0.46547,     0.46647,     0.46747,     0.46847,     0.46947,     0.47047,     0.47147,     0.47247,     0.47347,     0.47447,     0.47548,     0.47648,     0.47748,     0.47848,     0.47948,\n",
              "           0.48048,     0.48148,     0.48248,     0.48348,     0.48448,     0.48549,     0.48649,     0.48749,     0.48849,     0.48949,     0.49049,     0.49149,     0.49249,     0.49349,     0.49449,      0.4955,      0.4965,      0.4975,      0.4985,      0.4995,      0.5005,      0.5015,      0.5025,      0.5035,\n",
              "            0.5045,     0.50551,     0.50651,     0.50751,     0.50851,     0.50951,     0.51051,     0.51151,     0.51251,     0.51351,     0.51451,     0.51552,     0.51652,     0.51752,     0.51852,     0.51952,     0.52052,     0.52152,     0.52252,     0.52352,     0.52452,     0.52553,     0.52653,     0.52753,\n",
              "           0.52853,     0.52953,     0.53053,     0.53153,     0.53253,     0.53353,     0.53453,     0.53554,     0.53654,     0.53754,     0.53854,     0.53954,     0.54054,     0.54154,     0.54254,     0.54354,     0.54454,     0.54555,     0.54655,     0.54755,     0.54855,     0.54955,     0.55055,     0.55155,\n",
              "           0.55255,     0.55355,     0.55455,     0.55556,     0.55656,     0.55756,     0.55856,     0.55956,     0.56056,     0.56156,     0.56256,     0.56356,     0.56456,     0.56557,     0.56657,     0.56757,     0.56857,     0.56957,     0.57057,     0.57157,     0.57257,     0.57357,     0.57457,     0.57558,\n",
              "           0.57658,     0.57758,     0.57858,     0.57958,     0.58058,     0.58158,     0.58258,     0.58358,     0.58458,     0.58559,     0.58659,     0.58759,     0.58859,     0.58959,     0.59059,     0.59159,     0.59259,     0.59359,     0.59459,      0.5956,      0.5966,      0.5976,      0.5986,      0.5996,\n",
              "            0.6006,      0.6016,      0.6026,      0.6036,      0.6046,     0.60561,     0.60661,     0.60761,     0.60861,     0.60961,     0.61061,     0.61161,     0.61261,     0.61361,     0.61461,     0.61562,     0.61662,     0.61762,     0.61862,     0.61962,     0.62062,     0.62162,     0.62262,     0.62362,\n",
              "           0.62462,     0.62563,     0.62663,     0.62763,     0.62863,     0.62963,     0.63063,     0.63163,     0.63263,     0.63363,     0.63463,     0.63564,     0.63664,     0.63764,     0.63864,     0.63964,     0.64064,     0.64164,     0.64264,     0.64364,     0.64464,     0.64565,     0.64665,     0.64765,\n",
              "           0.64865,     0.64965,     0.65065,     0.65165,     0.65265,     0.65365,     0.65465,     0.65566,     0.65666,     0.65766,     0.65866,     0.65966,     0.66066,     0.66166,     0.66266,     0.66366,     0.66466,     0.66567,     0.66667,     0.66767,     0.66867,     0.66967,     0.67067,     0.67167,\n",
              "           0.67267,     0.67367,     0.67467,     0.67568,     0.67668,     0.67768,     0.67868,     0.67968,     0.68068,     0.68168,     0.68268,     0.68368,     0.68468,     0.68569,     0.68669,     0.68769,     0.68869,     0.68969,     0.69069,     0.69169,     0.69269,     0.69369,     0.69469,      0.6957,\n",
              "            0.6967,      0.6977,      0.6987,      0.6997,      0.7007,      0.7017,      0.7027,      0.7037,      0.7047,     0.70571,     0.70671,     0.70771,     0.70871,     0.70971,     0.71071,     0.71171,     0.71271,     0.71371,     0.71471,     0.71572,     0.71672,     0.71772,     0.71872,     0.71972,\n",
              "           0.72072,     0.72172,     0.72272,     0.72372,     0.72472,     0.72573,     0.72673,     0.72773,     0.72873,     0.72973,     0.73073,     0.73173,     0.73273,     0.73373,     0.73473,     0.73574,     0.73674,     0.73774,     0.73874,     0.73974,     0.74074,     0.74174,     0.74274,     0.74374,\n",
              "           0.74474,     0.74575,     0.74675,     0.74775,     0.74875,     0.74975,     0.75075,     0.75175,     0.75275,     0.75375,     0.75475,     0.75576,     0.75676,     0.75776,     0.75876,     0.75976,     0.76076,     0.76176,     0.76276,     0.76376,     0.76476,     0.76577,     0.76677,     0.76777,\n",
              "           0.76877,     0.76977,     0.77077,     0.77177,     0.77277,     0.77377,     0.77477,     0.77578,     0.77678,     0.77778,     0.77878,     0.77978,     0.78078,     0.78178,     0.78278,     0.78378,     0.78478,     0.78579,     0.78679,     0.78779,     0.78879,     0.78979,     0.79079,     0.79179,\n",
              "           0.79279,     0.79379,     0.79479,      0.7958,      0.7968,      0.7978,      0.7988,      0.7998,      0.8008,      0.8018,      0.8028,      0.8038,      0.8048,     0.80581,     0.80681,     0.80781,     0.80881,     0.80981,     0.81081,     0.81181,     0.81281,     0.81381,     0.81481,     0.81582,\n",
              "           0.81682,     0.81782,     0.81882,     0.81982,     0.82082,     0.82182,     0.82282,     0.82382,     0.82482,     0.82583,     0.82683,     0.82783,     0.82883,     0.82983,     0.83083,     0.83183,     0.83283,     0.83383,     0.83483,     0.83584,     0.83684,     0.83784,     0.83884,     0.83984,\n",
              "           0.84084,     0.84184,     0.84284,     0.84384,     0.84484,     0.84585,     0.84685,     0.84785,     0.84885,     0.84985,     0.85085,     0.85185,     0.85285,     0.85385,     0.85485,     0.85586,     0.85686,     0.85786,     0.85886,     0.85986,     0.86086,     0.86186,     0.86286,     0.86386,\n",
              "           0.86486,     0.86587,     0.86687,     0.86787,     0.86887,     0.86987,     0.87087,     0.87187,     0.87287,     0.87387,     0.87487,     0.87588,     0.87688,     0.87788,     0.87888,     0.87988,     0.88088,     0.88188,     0.88288,     0.88388,     0.88488,     0.88589,     0.88689,     0.88789,\n",
              "           0.88889,     0.88989,     0.89089,     0.89189,     0.89289,     0.89389,     0.89489,      0.8959,      0.8969,      0.8979,      0.8989,      0.8999,      0.9009,      0.9019,      0.9029,      0.9039,      0.9049,     0.90591,     0.90691,     0.90791,     0.90891,     0.90991,     0.91091,     0.91191,\n",
              "           0.91291,     0.91391,     0.91491,     0.91592,     0.91692,     0.91792,     0.91892,     0.91992,     0.92092,     0.92192,     0.92292,     0.92392,     0.92492,     0.92593,     0.92693,     0.92793,     0.92893,     0.92993,     0.93093,     0.93193,     0.93293,     0.93393,     0.93493,     0.93594,\n",
              "           0.93694,     0.93794,     0.93894,     0.93994,     0.94094,     0.94194,     0.94294,     0.94394,     0.94494,     0.94595,     0.94695,     0.94795,     0.94895,     0.94995,     0.95095,     0.95195,     0.95295,     0.95395,     0.95495,     0.95596,     0.95696,     0.95796,     0.95896,     0.95996,\n",
              "           0.96096,     0.96196,     0.96296,     0.96396,     0.96496,     0.96597,     0.96697,     0.96797,     0.96897,     0.96997,     0.97097,     0.97197,     0.97297,     0.97397,     0.97497,     0.97598,     0.97698,     0.97798,     0.97898,     0.97998,     0.98098,     0.98198,     0.98298,     0.98398,\n",
              "           0.98498,     0.98599,     0.98699,     0.98799,     0.98899,     0.98999,     0.99099,     0.99199,     0.99299,     0.99399,     0.99499,       0.996,       0.997,       0.998,       0.999,           1]), array([[   0.094676,    0.094676,     0.15099,     0.19159,     0.22457,     0.25402,     0.27575,     0.29583,     0.31344,     0.33037,     0.34427,     0.35871,     0.37121,      0.3825,     0.39336,     0.40312,     0.41148,     0.42113,     0.42937,     0.43842,     0.44676,     0.45251,     0.46078,\n",
              "            0.46893,     0.47596,     0.48112,     0.48753,     0.49296,     0.49808,     0.50396,     0.50862,     0.51255,     0.51601,     0.51927,     0.52576,      0.5292,     0.53424,     0.53831,     0.54204,     0.54508,      0.5492,     0.55272,     0.55575,     0.55833,     0.56131,     0.56499,\n",
              "            0.56928,     0.57279,     0.57517,     0.57863,     0.58198,      0.5854,     0.58964,     0.59224,      0.5949,     0.59726,     0.60103,     0.60289,     0.60475,     0.60828,     0.61081,     0.61402,     0.61632,     0.61852,     0.62168,     0.62421,     0.62628,     0.62828,     0.63097,\n",
              "            0.63367,     0.63536,     0.63719,     0.63871,     0.64191,     0.64413,     0.64526,     0.64655,      0.6484,     0.65127,     0.65381,     0.65481,     0.65722,     0.65913,     0.66108,     0.66335,     0.66518,      0.6687,     0.67026,     0.67122,     0.67252,     0.67483,     0.67888,\n",
              "            0.68012,     0.68125,     0.68282,     0.68447,     0.68659,     0.68833,     0.68923,     0.69122,     0.69335,     0.69476,     0.69608,     0.69656,     0.69836,     0.69944,     0.70098,     0.70285,     0.70386,     0.70464,      0.7056,     0.70737,     0.70872,     0.70931,     0.71033,\n",
              "            0.71096,     0.71243,     0.71426,     0.71518,     0.71556,     0.71621,     0.71733,     0.71929,     0.72025,     0.72191,     0.72328,     0.72519,     0.72541,      0.7273,     0.72879,     0.73017,     0.73066,     0.73129,     0.73218,     0.73342,     0.73494,     0.73542,     0.73587,\n",
              "            0.73607,     0.73814,       0.739,     0.74011,     0.74055,     0.74093,     0.74168,     0.74263,     0.74321,     0.74436,     0.74478,      0.7458,     0.74731,      0.7491,      0.7503,     0.75076,       0.752,     0.75259,     0.75261,     0.75325,     0.75395,     0.75514,     0.75589,\n",
              "            0.75759,     0.75784,     0.75923,     0.76057,       0.761,     0.76294,     0.76346,     0.76366,     0.76357,     0.76493,     0.76533,       0.766,     0.76693,     0.76766,     0.76789,     0.76962,     0.77199,     0.77353,     0.77463,     0.77574,     0.77592,     0.77609,     0.77667,\n",
              "            0.77733,     0.77827,     0.77867,     0.77935,     0.77958,     0.78041,     0.78131,     0.78154,     0.78175,     0.78192,      0.7821,     0.78313,      0.7837,     0.78423,     0.78458,     0.78553,     0.78596,     0.78785,     0.78809,     0.78987,     0.79057,     0.79171,      0.7921,\n",
              "            0.79232,     0.79414,     0.79447,     0.79479,     0.79643,     0.79765,     0.79798,     0.79838,     0.79859,      0.7991,     0.79933,     0.79981,     0.80048,     0.80103,     0.80156,     0.80196,     0.80267,     0.80426,     0.80457,     0.80469,      0.8048,     0.80492,     0.80494,\n",
              "            0.80568,     0.80608,     0.80688,     0.80795,     0.80862,     0.80944,     0.81113,     0.81285,     0.81348,      0.8141,     0.81413,     0.81447,     0.81493,     0.81585,     0.81646,     0.81744,     0.81761,     0.81824,     0.81918,     0.81996,     0.82192,     0.82224,     0.82247,\n",
              "            0.82263,      0.8228,      0.8242,     0.82572,     0.82594,     0.82615,     0.82734,      0.8287,     0.82903,     0.83034,     0.83021,     0.83008,        0.83,      0.8307,     0.83136,     0.83159,     0.83178,      0.8323,     0.83252,     0.83276,     0.83369,     0.83397,     0.83502,\n",
              "            0.83527,     0.83565,     0.83642,     0.83698,     0.83718,     0.83738,     0.83769,     0.83862,      0.8392,     0.83936,     0.83932,     0.83941,     0.84039,     0.84127,     0.84167,     0.84163,     0.84184,     0.84204,     0.84257,     0.84251,     0.84254,      0.8427,     0.84285,\n",
              "            0.84313,     0.84412,     0.84441,     0.84459,     0.84473,     0.84488,     0.84545,      0.8454,     0.84561,     0.84699,     0.84745,     0.84775,     0.84774,     0.84765,     0.84871,     0.84938,      0.8496,     0.84965,      0.8498,     0.84994,     0.85069,     0.85115,     0.85145,\n",
              "            0.85165,     0.85178,      0.8519,     0.85202,     0.85222,     0.85281,     0.85324,     0.85354,     0.85448,     0.85478,     0.85521,     0.85581,     0.85644,     0.85671,      0.8569,     0.85815,     0.85845,     0.85857,     0.85879,     0.85898,     0.85905,     0.85917,     0.85929,\n",
              "            0.85941,     0.85941,     0.86022,     0.86041,     0.86036,     0.86058,     0.86089,     0.86246,     0.86277,     0.86347,     0.86368,     0.86482,      0.8652,     0.86551,      0.8654,     0.86536,     0.86527,     0.86522,      0.8653,     0.86561,     0.86606,     0.86654,     0.86725,\n",
              "            0.86804,     0.86824,     0.86837,     0.86846,     0.86947,     0.86979,     0.86986,     0.86996,     0.87016,     0.87036,     0.87029,     0.87013,     0.87044,     0.87118,      0.8711,     0.87123,     0.87178,     0.87209,     0.87241,     0.87296,     0.87333,     0.87361,     0.87524,\n",
              "            0.87578,     0.87574,     0.87614,     0.87778,      0.8781,     0.87852,     0.87909,     0.87952,     0.87981,     0.88001,     0.88013,     0.88025,     0.88037,     0.88049,     0.88044,     0.88072,     0.88097,     0.88102,     0.88159,     0.88193,      0.8819,     0.88204,     0.88241,\n",
              "            0.88237,     0.88327,     0.88384,     0.88401,     0.88397,     0.88437,     0.88446,     0.88489,     0.88519,     0.88552,     0.88581,     0.88614,     0.88728,     0.88775,     0.88771,     0.88952,     0.88988,     0.88985,     0.88983,     0.89093,     0.89217,     0.89341,     0.89364,\n",
              "            0.89357,     0.89396,     0.89427,     0.89446,     0.89466,     0.89475,      0.8949,     0.89505,      0.8952,     0.89573,     0.89685,     0.89741,     0.89753,     0.89773,     0.89792,     0.89788,      0.8979,     0.89843,     0.89836,     0.89832,     0.89839,     0.89859,     0.89879,\n",
              "             0.9003,     0.90114,     0.90108,      0.9016,     0.90156,     0.90152,      0.9019,     0.90231,     0.90261,     0.90313,     0.90377,     0.90482,     0.90597,     0.90663,      0.9066,     0.90656,     0.90653,      0.9065,     0.90702,       0.907,     0.90698,     0.90694,     0.90756,\n",
              "            0.90869,       0.909,     0.91057,      0.9112,     0.91234,     0.91246,     0.91259,     0.91271,     0.91284,     0.91297,     0.91313,     0.91329,     0.91345,     0.91351,     0.91408,     0.91405,     0.91395,     0.91451,      0.9157,     0.91567,     0.91556,     0.91654,     0.91718,\n",
              "            0.91754,     0.91775,     0.91796,     0.91801,     0.91799,     0.91797,     0.91795,     0.91793,     0.91791,     0.91786,     0.91842,     0.91969,     0.91968,     0.91962,     0.91959,     0.92003,     0.91994,     0.92026,     0.92118,     0.92117,     0.92116,     0.92114,     0.92113,\n",
              "            0.92174,      0.9219,     0.92207,     0.92223,     0.92232,     0.92226,      0.9223,     0.92263,     0.92337,     0.92344,     0.92366,     0.92388,     0.92395,     0.92391,     0.92389,     0.92379,     0.92418,     0.92478,     0.92544,      0.9261,     0.92676,      0.9271,     0.92732,\n",
              "            0.92754,     0.92872,     0.92938,     0.92966,     0.92999,      0.9298,     0.93172,     0.93162,     0.93157,     0.93152,     0.93147,      0.9323,     0.93264,     0.93274,     0.93316,     0.93337,     0.93335,     0.93334,     0.93332,     0.93331,      0.9333,     0.93329,     0.93325,\n",
              "             0.9332,      0.9338,     0.93383,     0.93381,     0.93376,     0.93436,     0.93439,     0.93533,     0.93627,     0.93622,     0.93613,     0.93603,     0.93625,     0.93659,     0.93657,     0.93659,     0.93671,     0.93683,     0.93694,     0.93706,     0.93717,      0.9376,     0.93784,\n",
              "            0.93776,     0.93774,     0.93834,     0.93829,     0.93861,     0.93884,     0.93875,     0.93939,     0.94052,     0.94083,     0.94143,     0.94161,     0.94178,     0.94196,     0.94207,     0.94215,     0.94259,     0.94274,     0.94322,     0.94318,     0.94313,     0.94309,     0.94301,\n",
              "            0.94337,     0.94371,     0.94506,     0.94498,     0.94495,     0.94493,     0.94491,     0.94485,     0.94484,     0.94483,     0.94482,      0.9457,     0.94688,      0.9468,     0.94705,     0.94748,     0.94745,      0.9481,     0.94808,     0.94806,       0.948,     0.94792,     0.94791,\n",
              "            0.94789,     0.94786,     0.94782,     0.94774,     0.94767,     0.94778,     0.94842,     0.94879,     0.94904,     0.94892,      0.9489,     0.94922,     0.94959,     0.94958,     0.95024,     0.95022,      0.9502,     0.95086,     0.95097,     0.95127,      0.9515,      0.9522,     0.95218,\n",
              "            0.95217,     0.95213,     0.95208,     0.95206,     0.95216,     0.95253,     0.95272,     0.95268,     0.95261,     0.95251,     0.95248,     0.95273,     0.95307,     0.95379,     0.95376,     0.95374,     0.95369,     0.95366,     0.95352,     0.95401,     0.95581,     0.95641,     0.95633,\n",
              "            0.95686,     0.95764,     0.95855,     0.95853,     0.95851,     0.95849,     0.95847,     0.95919,     0.95915,     0.95912,     0.95907,     0.95977,     0.95974,     0.95966,     0.95964,     0.95962,     0.95961,     0.95954,     0.95952,      0.9595,     0.95941,     0.95928,     0.95925,\n",
              "            0.95922,     0.95919,     0.95933,     0.95971,     0.96045,     0.96046,     0.96038,     0.96035,     0.96013,      0.9601,     0.96005,     0.96075,     0.96137,     0.96133,     0.96122,      0.9622,     0.96304,     0.96365,     0.96363,     0.96352,     0.96349,     0.96347,     0.96417,\n",
              "            0.96506,     0.96578,     0.96584,      0.9658,     0.96575,     0.96573,     0.96565,     0.96556,     0.96542,     0.96539,     0.96532,     0.96527,     0.96525,     0.96523,       0.965,     0.96489,      0.9657,     0.96596,      0.9665,     0.96646,     0.96637,     0.96714,     0.96784,\n",
              "            0.96782,      0.9678,     0.96779,     0.96778,     0.96777,     0.96945,     0.96936,      0.9693,     0.96925,     0.96922,     0.96908,     0.96893,     0.96887,     0.96966,     0.96962,     0.96955,     0.96949,     0.96947,     0.96936,      0.9693,     0.96907,     0.96895,     0.96891,\n",
              "            0.97083,     0.97152,     0.97237,     0.97232,     0.97229,     0.97223,     0.97208,     0.97207,     0.97195,     0.97194,     0.97253,     0.97285,     0.97274,     0.97271,     0.97265,     0.97347,     0.97345,     0.97343,     0.97436,     0.97529,     0.97528,     0.97522,     0.97518,\n",
              "            0.97513,     0.97507,     0.97497,     0.97489,     0.97574,     0.97758,     0.97752,     0.97747,     0.97804,     0.97828,     0.97825,     0.97822,     0.97816,     0.97807,     0.97799,     0.97782,     0.97781,     0.97761,     0.97759,     0.97824,     0.97858,     0.97844,      0.9784,\n",
              "            0.97832,     0.97823,     0.97874,     0.98023,     0.98014,     0.98112,     0.98103,     0.98088,     0.98069,     0.98063,     0.98055,     0.98046,     0.98032,     0.98025,     0.98021,     0.98009,     0.97999,     0.97988,     0.97985,     0.98085,     0.98074,     0.98181,     0.98172,\n",
              "            0.98165,     0.98149,     0.98137,     0.98116,     0.98102,      0.9808,     0.98072,     0.98067,     0.98049,     0.98018,     0.98016,      0.9813,     0.98123,     0.98112,       0.981,     0.98087,     0.98063,     0.98049,     0.98032,     0.98021,     0.98013,      0.9799,     0.97974,\n",
              "            0.97951,     0.97936,     0.97905,     0.97879,     0.98012,     0.97988,     0.97953,      0.9793,     0.97916,     0.97896,     0.97875,     0.97864,     0.97832,     0.97965,     0.97948,      0.9794,     0.98088,     0.98044,     0.98033,     0.98001,     0.97968,     0.97944,     0.97905,\n",
              "            0.97881,     0.98051,     0.98012,     0.97959,     0.97933,     0.98076,     0.98257,     0.98225,     0.98185,     0.98171,     0.98363,     0.98334,     0.98282,     0.98758,     0.98732,     0.98713,     0.98696,      0.9894,     0.98922,     0.98908,     0.98864,     0.98851,     0.98824,\n",
              "            0.98773,     0.98757,     0.98738,     0.98713,     0.98674,     0.98668,     0.98978,     0.98946,     0.98923,     0.98899,      0.9887,     0.98835,     0.98802,     0.98762,     0.98736,     0.99127,     0.99096,     0.99068,     0.99061,     0.99029,        0.99,     0.98952,     0.98918,\n",
              "            0.99441,     0.99433,     0.99427,     0.99421,     0.99407,     0.99389,           1,           1,           1,           1,           1,           1,           1,           1,           1,           1,           1,           1,           1,           1,           1,           1,           1,\n",
              "                  1,           1,           1,           1,           1,           1,           1,           1,           1,           1,           1,           1,           1,           1,           1,           1,           1,           1,           1,           1,           1,           1,           1,\n",
              "                  1,           1,           1,           1,           1,           1,           1,           1,           1,           1,           1]]), 'Confidence', 'Precision'], [array([          0,    0.001001,    0.002002,    0.003003,    0.004004,    0.005005,    0.006006,    0.007007,    0.008008,    0.009009,     0.01001,    0.011011,    0.012012,    0.013013,    0.014014,    0.015015,    0.016016,    0.017017,    0.018018,    0.019019,     0.02002,    0.021021,    0.022022,    0.023023,\n",
              "          0.024024,    0.025025,    0.026026,    0.027027,    0.028028,    0.029029,     0.03003,    0.031031,    0.032032,    0.033033,    0.034034,    0.035035,    0.036036,    0.037037,    0.038038,    0.039039,     0.04004,    0.041041,    0.042042,    0.043043,    0.044044,    0.045045,    0.046046,    0.047047,\n",
              "          0.048048,    0.049049,     0.05005,    0.051051,    0.052052,    0.053053,    0.054054,    0.055055,    0.056056,    0.057057,    0.058058,    0.059059,     0.06006,    0.061061,    0.062062,    0.063063,    0.064064,    0.065065,    0.066066,    0.067067,    0.068068,    0.069069,     0.07007,    0.071071,\n",
              "          0.072072,    0.073073,    0.074074,    0.075075,    0.076076,    0.077077,    0.078078,    0.079079,     0.08008,    0.081081,    0.082082,    0.083083,    0.084084,    0.085085,    0.086086,    0.087087,    0.088088,    0.089089,     0.09009,    0.091091,    0.092092,    0.093093,    0.094094,    0.095095,\n",
              "          0.096096,    0.097097,    0.098098,    0.099099,      0.1001,      0.1011,      0.1021,      0.1031,      0.1041,     0.10511,     0.10611,     0.10711,     0.10811,     0.10911,     0.11011,     0.11111,     0.11211,     0.11311,     0.11411,     0.11512,     0.11612,     0.11712,     0.11812,     0.11912,\n",
              "           0.12012,     0.12112,     0.12212,     0.12312,     0.12412,     0.12513,     0.12613,     0.12713,     0.12813,     0.12913,     0.13013,     0.13113,     0.13213,     0.13313,     0.13413,     0.13514,     0.13614,     0.13714,     0.13814,     0.13914,     0.14014,     0.14114,     0.14214,     0.14314,\n",
              "           0.14414,     0.14515,     0.14615,     0.14715,     0.14815,     0.14915,     0.15015,     0.15115,     0.15215,     0.15315,     0.15415,     0.15516,     0.15616,     0.15716,     0.15816,     0.15916,     0.16016,     0.16116,     0.16216,     0.16316,     0.16416,     0.16517,     0.16617,     0.16717,\n",
              "           0.16817,     0.16917,     0.17017,     0.17117,     0.17217,     0.17317,     0.17417,     0.17518,     0.17618,     0.17718,     0.17818,     0.17918,     0.18018,     0.18118,     0.18218,     0.18318,     0.18418,     0.18519,     0.18619,     0.18719,     0.18819,     0.18919,     0.19019,     0.19119,\n",
              "           0.19219,     0.19319,     0.19419,      0.1952,      0.1962,      0.1972,      0.1982,      0.1992,      0.2002,      0.2012,      0.2022,      0.2032,      0.2042,     0.20521,     0.20621,     0.20721,     0.20821,     0.20921,     0.21021,     0.21121,     0.21221,     0.21321,     0.21421,     0.21522,\n",
              "           0.21622,     0.21722,     0.21822,     0.21922,     0.22022,     0.22122,     0.22222,     0.22322,     0.22422,     0.22523,     0.22623,     0.22723,     0.22823,     0.22923,     0.23023,     0.23123,     0.23223,     0.23323,     0.23423,     0.23524,     0.23624,     0.23724,     0.23824,     0.23924,\n",
              "           0.24024,     0.24124,     0.24224,     0.24324,     0.24424,     0.24525,     0.24625,     0.24725,     0.24825,     0.24925,     0.25025,     0.25125,     0.25225,     0.25325,     0.25425,     0.25526,     0.25626,     0.25726,     0.25826,     0.25926,     0.26026,     0.26126,     0.26226,     0.26326,\n",
              "           0.26426,     0.26527,     0.26627,     0.26727,     0.26827,     0.26927,     0.27027,     0.27127,     0.27227,     0.27327,     0.27427,     0.27528,     0.27628,     0.27728,     0.27828,     0.27928,     0.28028,     0.28128,     0.28228,     0.28328,     0.28428,     0.28529,     0.28629,     0.28729,\n",
              "           0.28829,     0.28929,     0.29029,     0.29129,     0.29229,     0.29329,     0.29429,      0.2953,      0.2963,      0.2973,      0.2983,      0.2993,      0.3003,      0.3013,      0.3023,      0.3033,      0.3043,     0.30531,     0.30631,     0.30731,     0.30831,     0.30931,     0.31031,     0.31131,\n",
              "           0.31231,     0.31331,     0.31431,     0.31532,     0.31632,     0.31732,     0.31832,     0.31932,     0.32032,     0.32132,     0.32232,     0.32332,     0.32432,     0.32533,     0.32633,     0.32733,     0.32833,     0.32933,     0.33033,     0.33133,     0.33233,     0.33333,     0.33433,     0.33534,\n",
              "           0.33634,     0.33734,     0.33834,     0.33934,     0.34034,     0.34134,     0.34234,     0.34334,     0.34434,     0.34535,     0.34635,     0.34735,     0.34835,     0.34935,     0.35035,     0.35135,     0.35235,     0.35335,     0.35435,     0.35536,     0.35636,     0.35736,     0.35836,     0.35936,\n",
              "           0.36036,     0.36136,     0.36236,     0.36336,     0.36436,     0.36537,     0.36637,     0.36737,     0.36837,     0.36937,     0.37037,     0.37137,     0.37237,     0.37337,     0.37437,     0.37538,     0.37638,     0.37738,     0.37838,     0.37938,     0.38038,     0.38138,     0.38238,     0.38338,\n",
              "           0.38438,     0.38539,     0.38639,     0.38739,     0.38839,     0.38939,     0.39039,     0.39139,     0.39239,     0.39339,     0.39439,      0.3954,      0.3964,      0.3974,      0.3984,      0.3994,      0.4004,      0.4014,      0.4024,      0.4034,      0.4044,     0.40541,     0.40641,     0.40741,\n",
              "           0.40841,     0.40941,     0.41041,     0.41141,     0.41241,     0.41341,     0.41441,     0.41542,     0.41642,     0.41742,     0.41842,     0.41942,     0.42042,     0.42142,     0.42242,     0.42342,     0.42442,     0.42543,     0.42643,     0.42743,     0.42843,     0.42943,     0.43043,     0.43143,\n",
              "           0.43243,     0.43343,     0.43443,     0.43544,     0.43644,     0.43744,     0.43844,     0.43944,     0.44044,     0.44144,     0.44244,     0.44344,     0.44444,     0.44545,     0.44645,     0.44745,     0.44845,     0.44945,     0.45045,     0.45145,     0.45245,     0.45345,     0.45445,     0.45546,\n",
              "           0.45646,     0.45746,     0.45846,     0.45946,     0.46046,     0.46146,     0.46246,     0.46346,     0.46446,     0.46547,     0.46647,     0.46747,     0.46847,     0.46947,     0.47047,     0.47147,     0.47247,     0.47347,     0.47447,     0.47548,     0.47648,     0.47748,     0.47848,     0.47948,\n",
              "           0.48048,     0.48148,     0.48248,     0.48348,     0.48448,     0.48549,     0.48649,     0.48749,     0.48849,     0.48949,     0.49049,     0.49149,     0.49249,     0.49349,     0.49449,      0.4955,      0.4965,      0.4975,      0.4985,      0.4995,      0.5005,      0.5015,      0.5025,      0.5035,\n",
              "            0.5045,     0.50551,     0.50651,     0.50751,     0.50851,     0.50951,     0.51051,     0.51151,     0.51251,     0.51351,     0.51451,     0.51552,     0.51652,     0.51752,     0.51852,     0.51952,     0.52052,     0.52152,     0.52252,     0.52352,     0.52452,     0.52553,     0.52653,     0.52753,\n",
              "           0.52853,     0.52953,     0.53053,     0.53153,     0.53253,     0.53353,     0.53453,     0.53554,     0.53654,     0.53754,     0.53854,     0.53954,     0.54054,     0.54154,     0.54254,     0.54354,     0.54454,     0.54555,     0.54655,     0.54755,     0.54855,     0.54955,     0.55055,     0.55155,\n",
              "           0.55255,     0.55355,     0.55455,     0.55556,     0.55656,     0.55756,     0.55856,     0.55956,     0.56056,     0.56156,     0.56256,     0.56356,     0.56456,     0.56557,     0.56657,     0.56757,     0.56857,     0.56957,     0.57057,     0.57157,     0.57257,     0.57357,     0.57457,     0.57558,\n",
              "           0.57658,     0.57758,     0.57858,     0.57958,     0.58058,     0.58158,     0.58258,     0.58358,     0.58458,     0.58559,     0.58659,     0.58759,     0.58859,     0.58959,     0.59059,     0.59159,     0.59259,     0.59359,     0.59459,      0.5956,      0.5966,      0.5976,      0.5986,      0.5996,\n",
              "            0.6006,      0.6016,      0.6026,      0.6036,      0.6046,     0.60561,     0.60661,     0.60761,     0.60861,     0.60961,     0.61061,     0.61161,     0.61261,     0.61361,     0.61461,     0.61562,     0.61662,     0.61762,     0.61862,     0.61962,     0.62062,     0.62162,     0.62262,     0.62362,\n",
              "           0.62462,     0.62563,     0.62663,     0.62763,     0.62863,     0.62963,     0.63063,     0.63163,     0.63263,     0.63363,     0.63463,     0.63564,     0.63664,     0.63764,     0.63864,     0.63964,     0.64064,     0.64164,     0.64264,     0.64364,     0.64464,     0.64565,     0.64665,     0.64765,\n",
              "           0.64865,     0.64965,     0.65065,     0.65165,     0.65265,     0.65365,     0.65465,     0.65566,     0.65666,     0.65766,     0.65866,     0.65966,     0.66066,     0.66166,     0.66266,     0.66366,     0.66466,     0.66567,     0.66667,     0.66767,     0.66867,     0.66967,     0.67067,     0.67167,\n",
              "           0.67267,     0.67367,     0.67467,     0.67568,     0.67668,     0.67768,     0.67868,     0.67968,     0.68068,     0.68168,     0.68268,     0.68368,     0.68468,     0.68569,     0.68669,     0.68769,     0.68869,     0.68969,     0.69069,     0.69169,     0.69269,     0.69369,     0.69469,      0.6957,\n",
              "            0.6967,      0.6977,      0.6987,      0.6997,      0.7007,      0.7017,      0.7027,      0.7037,      0.7047,     0.70571,     0.70671,     0.70771,     0.70871,     0.70971,     0.71071,     0.71171,     0.71271,     0.71371,     0.71471,     0.71572,     0.71672,     0.71772,     0.71872,     0.71972,\n",
              "           0.72072,     0.72172,     0.72272,     0.72372,     0.72472,     0.72573,     0.72673,     0.72773,     0.72873,     0.72973,     0.73073,     0.73173,     0.73273,     0.73373,     0.73473,     0.73574,     0.73674,     0.73774,     0.73874,     0.73974,     0.74074,     0.74174,     0.74274,     0.74374,\n",
              "           0.74474,     0.74575,     0.74675,     0.74775,     0.74875,     0.74975,     0.75075,     0.75175,     0.75275,     0.75375,     0.75475,     0.75576,     0.75676,     0.75776,     0.75876,     0.75976,     0.76076,     0.76176,     0.76276,     0.76376,     0.76476,     0.76577,     0.76677,     0.76777,\n",
              "           0.76877,     0.76977,     0.77077,     0.77177,     0.77277,     0.77377,     0.77477,     0.77578,     0.77678,     0.77778,     0.77878,     0.77978,     0.78078,     0.78178,     0.78278,     0.78378,     0.78478,     0.78579,     0.78679,     0.78779,     0.78879,     0.78979,     0.79079,     0.79179,\n",
              "           0.79279,     0.79379,     0.79479,      0.7958,      0.7968,      0.7978,      0.7988,      0.7998,      0.8008,      0.8018,      0.8028,      0.8038,      0.8048,     0.80581,     0.80681,     0.80781,     0.80881,     0.80981,     0.81081,     0.81181,     0.81281,     0.81381,     0.81481,     0.81582,\n",
              "           0.81682,     0.81782,     0.81882,     0.81982,     0.82082,     0.82182,     0.82282,     0.82382,     0.82482,     0.82583,     0.82683,     0.82783,     0.82883,     0.82983,     0.83083,     0.83183,     0.83283,     0.83383,     0.83483,     0.83584,     0.83684,     0.83784,     0.83884,     0.83984,\n",
              "           0.84084,     0.84184,     0.84284,     0.84384,     0.84484,     0.84585,     0.84685,     0.84785,     0.84885,     0.84985,     0.85085,     0.85185,     0.85285,     0.85385,     0.85485,     0.85586,     0.85686,     0.85786,     0.85886,     0.85986,     0.86086,     0.86186,     0.86286,     0.86386,\n",
              "           0.86486,     0.86587,     0.86687,     0.86787,     0.86887,     0.86987,     0.87087,     0.87187,     0.87287,     0.87387,     0.87487,     0.87588,     0.87688,     0.87788,     0.87888,     0.87988,     0.88088,     0.88188,     0.88288,     0.88388,     0.88488,     0.88589,     0.88689,     0.88789,\n",
              "           0.88889,     0.88989,     0.89089,     0.89189,     0.89289,     0.89389,     0.89489,      0.8959,      0.8969,      0.8979,      0.8989,      0.8999,      0.9009,      0.9019,      0.9029,      0.9039,      0.9049,     0.90591,     0.90691,     0.90791,     0.90891,     0.90991,     0.91091,     0.91191,\n",
              "           0.91291,     0.91391,     0.91491,     0.91592,     0.91692,     0.91792,     0.91892,     0.91992,     0.92092,     0.92192,     0.92292,     0.92392,     0.92492,     0.92593,     0.92693,     0.92793,     0.92893,     0.92993,     0.93093,     0.93193,     0.93293,     0.93393,     0.93493,     0.93594,\n",
              "           0.93694,     0.93794,     0.93894,     0.93994,     0.94094,     0.94194,     0.94294,     0.94394,     0.94494,     0.94595,     0.94695,     0.94795,     0.94895,     0.94995,     0.95095,     0.95195,     0.95295,     0.95395,     0.95495,     0.95596,     0.95696,     0.95796,     0.95896,     0.95996,\n",
              "           0.96096,     0.96196,     0.96296,     0.96396,     0.96496,     0.96597,     0.96697,     0.96797,     0.96897,     0.96997,     0.97097,     0.97197,     0.97297,     0.97397,     0.97497,     0.97598,     0.97698,     0.97798,     0.97898,     0.97998,     0.98098,     0.98198,     0.98298,     0.98398,\n",
              "           0.98498,     0.98599,     0.98699,     0.98799,     0.98899,     0.98999,     0.99099,     0.99199,     0.99299,     0.99399,     0.99499,       0.996,       0.997,       0.998,       0.999,           1]), array([[    0.98851,     0.98851,     0.98532,     0.98341,     0.98213,     0.98086,     0.98086,     0.98022,      0.9783,     0.97766,     0.97766,     0.97575,     0.97575,     0.97447,      0.9732,      0.9732,      0.9732,     0.97192,     0.97192,     0.97192,     0.97192,     0.97192,     0.97192,\n",
              "            0.97064,     0.97001,     0.97001,     0.97001,     0.97001,     0.96873,     0.96809,     0.96745,     0.96618,      0.9649,      0.9649,     0.96426,     0.96426,     0.96426,     0.96362,     0.96299,     0.96299,     0.96299,     0.96299,     0.96299,     0.96299,     0.96299,     0.96299,\n",
              "            0.96299,     0.96299,     0.96235,     0.96043,     0.96043,      0.9598,     0.95724,     0.95724,     0.95724,     0.95724,     0.95724,     0.95724,     0.95724,      0.9566,      0.9566,      0.9566,      0.9566,     0.95597,     0.95597,     0.95533,     0.95533,     0.95469,     0.95469,\n",
              "            0.95469,     0.95405,     0.95341,     0.95341,     0.95278,     0.95278,     0.95278,     0.95214,     0.95214,     0.95214,      0.9515,      0.9515,      0.9515,      0.9515,      0.9515,      0.9515,     0.95086,     0.95022,     0.95022,     0.95022,     0.95022,     0.94959,     0.94959,\n",
              "            0.94895,     0.94895,     0.94895,     0.94895,     0.94831,     0.94831,     0.94826,     0.94767,     0.94767,     0.94767,     0.94639,     0.94576,     0.94576,     0.94576,     0.94576,     0.94576,     0.94448,     0.94448,     0.94448,     0.94384,     0.94384,     0.94384,     0.94384,\n",
              "            0.94341,      0.9432,      0.9432,     0.94193,     0.94193,     0.94193,     0.94193,     0.94193,     0.94146,     0.94129,     0.94129,     0.94129,     0.94072,     0.94065,     0.94065,     0.94065,     0.94065,     0.94001,     0.94001,     0.94001,     0.94001,     0.94001,     0.94001,\n",
              "            0.94001,     0.94001,     0.94001,     0.94001,     0.94001,     0.94001,     0.94001,     0.94001,     0.94001,     0.94001,     0.93937,     0.93937,     0.93937,     0.93874,      0.9381,     0.93746,     0.93618,     0.93618,     0.93555,     0.93491,     0.93491,     0.93491,     0.93491,\n",
              "            0.93491,     0.93491,     0.93491,     0.93452,     0.93427,     0.93427,     0.93427,     0.93427,     0.93365,     0.93363,     0.93363,     0.93363,     0.93363,     0.93363,     0.93363,     0.93363,     0.93363,     0.93363,     0.93363,     0.93363,     0.93363,     0.93363,     0.93363,\n",
              "            0.93235,     0.93235,     0.93235,     0.93235,     0.93235,     0.93235,     0.93235,     0.93235,     0.93235,     0.93235,     0.93235,     0.93235,     0.93172,     0.93172,     0.93172,     0.93172,     0.93172,     0.93138,     0.93108,     0.93044,     0.93044,     0.93044,     0.93044,\n",
              "            0.93044,     0.93044,     0.93044,     0.93044,     0.93044,     0.93044,     0.93044,     0.92995,     0.92865,     0.92789,     0.92789,     0.92725,     0.92686,     0.92661,     0.92543,     0.92515,      0.9247,      0.9247,      0.9247,      0.9247,      0.9247,      0.9247,     0.92433,\n",
              "            0.92342,     0.92313,     0.92278,     0.92278,     0.92278,     0.92278,     0.92278,     0.92278,     0.92278,     0.92278,     0.92214,     0.92214,     0.92151,     0.92087,     0.92087,     0.92012,     0.91959,     0.91959,     0.91938,     0.91895,     0.91895,     0.91895,     0.91895,\n",
              "            0.91895,     0.91895,     0.91895,     0.91895,     0.91895,     0.91895,     0.91895,     0.91895,     0.91895,     0.91827,     0.91739,     0.91652,     0.91603,     0.91576,     0.91576,     0.91576,     0.91576,     0.91533,     0.91512,     0.91385,     0.91385,     0.91385,     0.91385,\n",
              "            0.91385,     0.91385,     0.91385,     0.91385,     0.91385,     0.91385,     0.91385,     0.91385,     0.91385,     0.91367,     0.91338,     0.91257,     0.91257,     0.91257,     0.91257,     0.91193,     0.91193,     0.91193,     0.91189,     0.91152,      0.9113,      0.9113,      0.9113,\n",
              "             0.9113,      0.9113,      0.9113,      0.9113,      0.9113,      0.9113,     0.91116,     0.91078,     0.91066,     0.91066,     0.91066,     0.91066,     0.90957,     0.90874,     0.90874,     0.90874,     0.90842,      0.9081,      0.9081,      0.9081,      0.9081,      0.9081,      0.9081,\n",
              "             0.9081,      0.9081,      0.9081,      0.9081,     0.90747,     0.90747,     0.90747,     0.90747,     0.90683,     0.90683,     0.90683,     0.90683,     0.90683,     0.90683,     0.90683,     0.90683,     0.90683,     0.90652,     0.90619,     0.90574,     0.90555,     0.90555,     0.90555,\n",
              "            0.90555,     0.90503,     0.90491,     0.90469,     0.90436,     0.90428,     0.90428,     0.90428,     0.90428,     0.90405,     0.90364,     0.90364,     0.90364,     0.90364,     0.90269,     0.90235,     0.90163,     0.90131,     0.90108,     0.90108,     0.90108,     0.90108,     0.90108,\n",
              "            0.90108,     0.90108,     0.90092,     0.90045,     0.90045,     0.90045,     0.90006,     0.89981,     0.89981,     0.89981,      0.8992,      0.8979,     0.89789,     0.89771,     0.89706,     0.89662,     0.89662,     0.89629,     0.89598,     0.89598,     0.89598,     0.89598,     0.89534,\n",
              "            0.89533,       0.895,     0.89343,     0.89343,     0.89343,     0.89343,     0.89343,     0.89343,     0.89343,     0.89343,     0.89343,     0.89343,     0.89343,     0.89343,     0.89286,     0.89279,     0.89267,     0.89215,     0.89215,     0.89143,      0.8911,     0.89087,     0.89075,\n",
              "            0.89038,     0.89024,     0.89024,     0.89002,     0.88969,      0.8896,     0.88911,     0.88896,     0.88832,     0.88832,     0.88832,     0.88832,     0.88832,     0.88826,     0.88794,     0.88768,     0.88699,     0.88677,     0.88655,     0.88619,     0.88513,     0.88513,     0.88471,\n",
              "            0.88405,     0.88385,     0.88385,     0.88385,     0.88385,     0.88322,     0.88322,     0.88322,     0.88322,     0.88263,     0.88258,     0.88196,      0.8813,      0.8813,     0.88129,     0.88096,     0.88066,     0.88057,      0.8799,     0.87958,     0.87939,     0.87939,     0.87939,\n",
              "            0.87875,     0.87841,     0.87775,      0.8771,     0.87664,     0.87631,      0.8762,      0.8762,      0.8762,      0.8762,     0.87507,     0.87492,     0.87428,     0.87375,     0.87337,     0.87304,     0.87271,     0.87239,     0.87152,     0.87131,     0.87108,     0.87045,     0.87045,\n",
              "            0.86981,     0.86981,     0.86981,     0.86981,     0.86981,     0.86981,     0.86981,     0.86981,     0.86981,     0.86981,     0.86981,     0.86981,     0.86981,     0.86955,     0.86904,     0.86871,     0.86759,     0.86694,     0.86645,     0.86613,     0.86497,     0.86471,     0.86471,\n",
              "            0.86471,     0.86471,     0.86471,     0.86455,     0.86433,     0.86412,      0.8639,     0.86368,     0.86346,     0.86287,      0.8628,      0.8628,     0.86218,     0.86153,      0.8612,     0.85894,     0.85769,     0.85769,     0.85768,     0.85754,     0.85741,     0.85728,     0.85715,\n",
              "            0.85641,     0.85641,     0.85641,     0.85641,      0.8562,     0.85554,      0.8545,      0.8545,     0.85358,     0.85322,     0.85322,     0.85322,     0.85288,      0.8524,     0.85208,     0.85092,     0.85067,     0.85003,     0.85003,     0.85003,     0.85003,     0.85003,     0.85003,\n",
              "            0.85003,     0.84939,     0.84939,     0.84812,     0.84812,     0.84528,     0.84463,     0.84334,     0.84268,     0.84203,     0.84138,      0.8411,      0.8411,     0.84069,     0.84046,     0.84031,     0.84009,     0.83988,      0.8397,     0.83954,     0.83937,     0.83921,     0.83863,\n",
              "            0.83798,     0.83791,     0.83761,     0.83728,     0.83664,     0.83567,     0.83535,     0.83472,     0.83434,     0.83369,     0.83239,      0.8311,     0.83089,     0.83089,     0.82914,     0.82833,     0.82833,     0.82833,     0.82833,     0.82833,     0.82833,     0.82833,     0.82805,\n",
              "            0.82691,     0.82658,     0.82545,      0.8248,     0.82387,     0.82285,     0.82156,     0.82091,     0.82068,     0.82004,     0.82004,     0.82004,     0.82004,     0.82004,     0.81984,     0.81749,     0.81725,     0.81685,     0.81685,     0.81561,     0.81496,      0.8143,     0.81302,\n",
              "            0.81302,     0.81238,     0.81232,     0.81105,     0.81062,     0.81025,     0.80993,     0.80908,     0.80891,     0.80875,     0.80858,     0.80791,      0.8077,      0.8064,       0.806,     0.80582,     0.80539,     0.80441,     0.80409,     0.80376,     0.80278,     0.80151,     0.80125,\n",
              "            0.80099,     0.80048,     0.79983,     0.79854,      0.7974,     0.79643,     0.79643,     0.79643,     0.79622,     0.79437,     0.79393,     0.79387,     0.79387,     0.79327,     0.79219,      0.7918,     0.79148,     0.79034,     0.78941,     0.78941,     0.78869,     0.78809,     0.78783,\n",
              "            0.78757,     0.78703,     0.78603,     0.78576,     0.78558,     0.78558,      0.7845,     0.78375,     0.78246,     0.78072,     0.78019,     0.77856,     0.77761,     0.77706,     0.77663,      0.7763,     0.77533,     0.77489,      0.7724,     0.77218,     0.77026,     0.77012,     0.76868,\n",
              "            0.76771,     0.76771,     0.76736,     0.76696,     0.76663,     0.76627,     0.76583,     0.76579,     0.76422,     0.76357,     0.76259,      0.7613,      0.7606,     0.75903,     0.75862,     0.75836,     0.75803,     0.75678,     0.75634,     0.75591,     0.75414,     0.75163,     0.75119,\n",
              "            0.75058,     0.74992,     0.74665,     0.74484,     0.74474,     0.74412,     0.74251,     0.74185,     0.73769,     0.73699,     0.73606,     0.73413,      0.7306,     0.72984,      0.7277,      0.7275,      0.7275,     0.72739,     0.72695,     0.72475,     0.72417,     0.72373,     0.72304,\n",
              "            0.72277,      0.7224,     0.72178,     0.72081,     0.71984,      0.7194,     0.71757,     0.71564,     0.71275,     0.71201,     0.71049,     0.70941,     0.70909,     0.70852,     0.70372,      0.7016,     0.70082,     0.70006,     0.69959,     0.69886,     0.69692,     0.69499,     0.69147,\n",
              "            0.69092,     0.69049,     0.69027,     0.69005,     0.68973,      0.6885,     0.68648,      0.6851,     0.68399,     0.68319,     0.68012,     0.67675,     0.67531,     0.67306,     0.67218,     0.67047,     0.66926,     0.66883,     0.66628,     0.66498,     0.65987,     0.65728,     0.65632,\n",
              "            0.65539,      0.6531,     0.65141,     0.65001,     0.64943,     0.64793,     0.64445,     0.64401,     0.64127,     0.64094,     0.64071,     0.64018,     0.63769,     0.63695,     0.63534,     0.63223,     0.63179,     0.63136,     0.63048,     0.62969,     0.62937,     0.62783,     0.62692,\n",
              "            0.62563,     0.62401,     0.62132,     0.61937,     0.61599,     0.61229,     0.61053,     0.60904,     0.60562,     0.60346,     0.60281,     0.60189,     0.60023,     0.59766,     0.59541,     0.59093,     0.59049,     0.58516,     0.58473,     0.58456,     0.58309,     0.57923,     0.57805,\n",
              "            0.57598,     0.57339,     0.57179,      0.5695,      0.5668,     0.56369,     0.56111,     0.55661,     0.55083,     0.54917,     0.54694,     0.54436,      0.5405,     0.53855,     0.53724,     0.53402,     0.53119,      0.5283,     0.52754,     0.52304,     0.51982,      0.5166,     0.51401,\n",
              "            0.51207,     0.50757,     0.50434,     0.49857,     0.49471,     0.48893,     0.48699,     0.48568,     0.48118,      0.4735,     0.47282,     0.46896,     0.46701,     0.46419,      0.4612,     0.45798,     0.45221,     0.44898,     0.44512,     0.44254,     0.44059,     0.43545,     0.43213,\n",
              "            0.42709,     0.42387,     0.41746,     0.41232,      0.4091,     0.40396,     0.39691,     0.39241,     0.38983,     0.38596,      0.3821,     0.38016,     0.37438,     0.36861,     0.36553,     0.36407,     0.36021,     0.35189,     0.34994,     0.34416,     0.33839,     0.33446,     0.32811,\n",
              "            0.32425,     0.32103,     0.31462,     0.30629,     0.30243,     0.29282,     0.28775,     0.28255,     0.27614,     0.27398,     0.26841,     0.26374,     0.25559,     0.25364,      0.2485,     0.24464,     0.24142,      0.2382,     0.23427,     0.23111,     0.22215,     0.21955,     0.21443,\n",
              "            0.20546,     0.20287,     0.19965,     0.19579,     0.19002,     0.18912,     0.18548,     0.17971,     0.17585,     0.17199,     0.16749,     0.16235,     0.15785,     0.15271,     0.14949,     0.14499,     0.13986,     0.13564,     0.13469,     0.13019,     0.12633,     0.12055,     0.11669,\n",
              "            0.11347,     0.11192,     0.11076,     0.10954,     0.10696,     0.10373,     0.10115,    0.099059,     0.09279,    0.087222,    0.085068,    0.081846,    0.076708,    0.073486,    0.072783,    0.068317,    0.066369,    0.057419,    0.053543,    0.049091,    0.046459,    0.043237,    0.040109,\n",
              "           0.039344,    0.036121,    0.029069,    0.025847,    0.023262,     0.02157,    0.021134,    0.018699,    0.016114,     0.01387,    0.013434,    0.012157,   0.0089668,   0.0063823,   0.0061948,   0.0060079,    0.005821,   0.0055521,   0.0052251,   0.0044289,   0.0041673,   0.0039056,   0.0033665,\n",
              "          0.0028718,   0.0022019,           0,           0,           0,           0,           0,           0,           0,           0,           0]]), 'Confidence', 'Recall']]\n",
              "fitness: np.float64(0.7512041397826621)\n",
              "keys: ['metrics/precision(B)', 'metrics/recall(B)', 'metrics/mAP50(B)', 'metrics/mAP50-95(B)']\n",
              "maps: array([    0.73077])\n",
              "names: {0: 'fire'}\n",
              "plot: True\n",
              "results_dict: {'metrics/precision(B)': np.float64(0.9069976015938934), 'metrics/recall(B)': np.float64(0.8713067460142551), 'metrics/mAP50(B)': np.float64(0.9350851612156734), 'metrics/mAP50-95(B)': np.float64(0.7307729151789941), 'fitness': np.float64(0.7512041397826621)}\n",
              "save_dir: PosixPath('runs/detect/train')\n",
              "speed: {'preprocess': 0.23706007171193527, 'inference': 2.466341127490566, 'loss': 0.0004824083662858621, 'postprocess': 3.5502228844637487}\n",
              "task: 'detect'"
            ]
          },
          "metadata": {},
          "execution_count": 5
        }
      ]
    },
    {
      "cell_type": "code",
      "source": [
        "model.export(format=\"onnx\")\n",
        "model.export(format=\"torchscript\")\n"
      ],
      "metadata": {
        "colab": {
          "base_uri": "https://localhost:8080/",
          "height": 523
        },
        "id": "e3pkVW3SPbwd",
        "outputId": "ed66e7b6-e4ca-4785-9b8e-05bae8f4fd5c"
      },
      "execution_count": null,
      "outputs": [
        {
          "output_type": "stream",
          "name": "stdout",
          "text": [
            "Ultralytics 8.3.119 🚀 Python-3.11.12 torch-2.6.0+cu124 CPU (Intel Xeon 2.00GHz)\n",
            "Model summary (fused): 72 layers, 3,005,843 parameters, 0 gradients, 8.1 GFLOPs\n",
            "\n",
            "\u001b[34m\u001b[1mPyTorch:\u001b[0m starting from 'runs/detect/train/weights/best.pt' with input shape (1, 3, 640, 640) BCHW and output shape(s) (1, 5, 8400) (6.0 MB)\n",
            "\n",
            "\u001b[34m\u001b[1mONNX:\u001b[0m starting export with onnx 1.17.0 opset 19...\n",
            "\u001b[34m\u001b[1mONNX:\u001b[0m slimming with onnxslim 0.1.50...\n",
            "\u001b[34m\u001b[1mONNX:\u001b[0m export success ✅ 1.0s, saved as 'runs/detect/train/weights/best.onnx' (11.7 MB)\n",
            "\n",
            "Export complete (1.4s)\n",
            "Results saved to \u001b[1m/content/runs/detect/train/weights\u001b[0m\n",
            "Predict:         yolo predict task=detect model=runs/detect/train/weights/best.onnx imgsz=640  \n",
            "Validate:        yolo val task=detect model=runs/detect/train/weights/best.onnx imgsz=640 data=/content/fire-and-smoke-thermal-cam-1/data.yaml  \n",
            "Visualize:       https://netron.app\n",
            "Ultralytics 8.3.119 🚀 Python-3.11.12 torch-2.6.0+cu124 CPU (Intel Xeon 2.00GHz)\n",
            "Model summary (fused): 72 layers, 3,005,843 parameters, 0 gradients, 8.1 GFLOPs\n",
            "\n",
            "\u001b[34m\u001b[1mPyTorch:\u001b[0m starting from 'runs/detect/train/weights/best.pt' with input shape (1, 3, 640, 640) BCHW and output shape(s) (1, 5, 8400) (6.0 MB)\n",
            "\n",
            "\u001b[34m\u001b[1mTorchScript:\u001b[0m starting export with torch 2.6.0+cu124...\n",
            "\u001b[34m\u001b[1mTorchScript:\u001b[0m export success ✅ 1.8s, saved as 'runs/detect/train/weights/best.torchscript' (11.9 MB)\n",
            "\n",
            "Export complete (2.2s)\n",
            "Results saved to \u001b[1m/content/runs/detect/train/weights\u001b[0m\n",
            "Predict:         yolo predict task=detect model=runs/detect/train/weights/best.torchscript imgsz=640  \n",
            "Validate:        yolo val task=detect model=runs/detect/train/weights/best.torchscript imgsz=640 data=/content/fire-and-smoke-thermal-cam-1/data.yaml  \n",
            "Visualize:       https://netron.app\n"
          ]
        },
        {
          "output_type": "execute_result",
          "data": {
            "text/plain": [
              "'runs/detect/train/weights/best.torchscript'"
            ],
            "application/vnd.google.colaboratory.intrinsic+json": {
              "type": "string"
            }
          },
          "metadata": {},
          "execution_count": 8
        }
      ]
    },
    {
      "cell_type": "code",
      "source": [
        "model.save()"
      ],
      "metadata": {
        "id": "ywE76jkBQMWB"
      },
      "execution_count": null,
      "outputs": []
    }
  ]
}